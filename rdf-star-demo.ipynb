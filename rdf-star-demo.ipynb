{
 "cells": [
  {
   "cell_type": "markdown",
   "id": "ccb90d31-8ab8-4d2a-85ea-64ff0c931b91",
   "metadata": {},
   "source": [
    "# Using RDF-Star and SPARQL-Star with the AllegroGraph Python Interface\n",
    "\n",
    "This notebook will show the basic functionality of **RDF-star** and **SPARQL-star** using the `agraph-python` interface. If you want to read more about **RDF-star** and **SPARQL-star** you can visit the [W3C specification document](https://www.w3.org/2021/12/rdf-star.html#overview).\n",
    "\n",
    "If you are connecting in a regular jupyter notebook and have activated our `ag-tutorial` environment then you do not need to run the following cell to install agraph-python. However if you are in a Google Colab please run the following cell."
   ]
  },
  {
   "cell_type": "code",
   "execution_count": null,
   "id": "dfe16b0f-3222-447e-aae2-56517bc8933c",
   "metadata": {},
   "outputs": [],
   "source": [
    "%pip install agraph-python pycurl"
   ]
  },
  {
   "cell_type": "markdown",
   "id": "6a7f42e9-1781-40b8-a660-b42a51cc683b",
   "metadata": {},
   "source": [
    "We will only set the environment variables for AGRAPH_PASSWORD, AGRAPH_HOST and AGRAPH_PORT. If connecting to a cloud server you will not need to change the port, but please copy the host from your server. We have left a (nonworking) example in place."
   ]
  },
  {
   "cell_type": "code",
   "execution_count": null,
   "id": "57536d5e-1fef-43a1-b55f-13a803d40346",
   "metadata": {},
   "outputs": [],
   "source": [
    "import os\n",
    "os.environ['AGRAPH_USER'] = 'admin'\n",
    "os.environ['AGRAPH_PASSWORD'] = 'GrMEKDvQFaN2bkrHJeiCbv'\n",
    "os.environ['AGRAPH_HOST'] = 'https://ag197y8xsj2epl2e.allegrograph.cloud'\n",
    "os.environ['AGRAPH_PORT'] = '443'"
   ]
  },
  {
   "cell_type": "code",
   "execution_count": 68,
   "id": "3512c6b0-1a31-48d0-8443-98625a1f403b",
   "metadata": {},
   "outputs": [],
   "source": [
    "from franz.openrdf.connect import ag_connect\n",
    "from franz.openrdf.query.query import QueryLanguage\n",
    "\n",
    "conn = ag_connect('rdf-star-example')\n",
    "conn.setNamespace(':', 'http://franz.com/')"
   ]
  },
  {
   "cell_type": "markdown",
   "id": "0b1d7af4-d989-4517-b12f-4cd2ec27626c",
   "metadata": {},
   "source": [
    "To use the **RDF-star** and **SPARQL-star** capabilities the user must always enable those features by running the `enableRDFStar()` method on the connection object. This only has to be done once. Once the repository has been created and every future time the user connects the capabilities will still be enabled."
   ]
  },
  {
   "cell_type": "code",
   "execution_count": 69,
   "id": "741d18b0-a78b-4652-a294-881be1d85e46",
   "metadata": {},
   "outputs": [],
   "source": [
    "conn.enableRDFStar()"
   ]
  },
  {
   "cell_type": "markdown",
   "id": "aa537f5f-87e5-45ff-83b3-75ef6ef69c5c",
   "metadata": {},
   "source": [
    "We will start by adding some triples using the `Turtle-star` syntax. In this example we add will add `:Bilbo :hasHeir :Frodo` both as an **asserted triple** and as a **quoted triple**. With this example, because the aforementioned triple is both **asserted** and **quoted** we can query for the both, as will be shown later, but for now we are only adding the data to the graph."
   ]
  },
  {
   "cell_type": "code",
   "execution_count": 70,
   "id": "ebbd068f-3d89-4dd5-8410-3e9302bb3d52",
   "metadata": {},
   "outputs": [],
   "source": [
    "conn.addData(\"\"\"\n",
    "        PREFIX : <http://franz.com/>\n",
    "        \n",
    "        :Frodo :name \"Frodo Baggins\" ; a :Hobbit .\n",
    "        :Bilbo :name \"Bilbo Baggins\" ; a :Hobbit.\n",
    "        :Lobelia :name \"Lobelia Sackville-Baggins\" ; a :Hobbit .\n",
    "        \n",
    "        :Bilbo :hasHeir :Frodo . #asserted triple\n",
    "        << :Bilbo :hasHeir :Frodo >> :dislikedBy :Lobelia . #quoted triple \"\"\")"
   ]
  },
  {
   "cell_type": "code",
   "execution_count": 71,
   "id": "3bf1231b-a986-4b39-b273-85b0321a317d",
   "metadata": {},
   "outputs": [
    {
     "data": {
      "text/plain": [
       "9"
      ]
     },
     "execution_count": 71,
     "metadata": {},
     "output_type": "execute_result"
    }
   ],
   "source": [
    "conn.size()"
   ]
  },
  {
   "cell_type": "markdown",
   "id": "d2e9fcb9-3e3f-46d3-b515-b4f907fd7bde",
   "metadata": {},
   "source": [
    "We can now also view this **quoted** triple in Gruff. Notice how the `:dislikedBy` predicate points from the center of the `:heirOf` to `:Lobelia`\n",
    "\n",
    "![heirOf](images/heirOf.png)"
   ]
  },
  {
   "cell_type": "markdown",
   "id": "5c4d67db-348b-41cd-b7c4-01f701febcb9",
   "metadata": {},
   "source": [
    "We can query for elements of **quoted** and **asserted** triples using the usual python querying methods."
   ]
  },
  {
   "cell_type": "code",
   "execution_count": 72,
   "id": "e8dceb88-f008-42eb-8003-b19c40827170",
   "metadata": {},
   "outputs": [
    {
     "data": {
      "text/html": [
       "<div>\n",
       "<style scoped>\n",
       "    .dataframe tbody tr th:only-of-type {\n",
       "        vertical-align: middle;\n",
       "    }\n",
       "\n",
       "    .dataframe tbody tr th {\n",
       "        vertical-align: top;\n",
       "    }\n",
       "\n",
       "    .dataframe thead th {\n",
       "        text-align: right;\n",
       "    }\n",
       "</style>\n",
       "<table border=\"1\" class=\"dataframe\">\n",
       "  <thead>\n",
       "    <tr style=\"text-align: right;\">\n",
       "      <th></th>\n",
       "      <th>being1</th>\n",
       "      <th>being2</th>\n",
       "      <th>bitterOldPerson</th>\n",
       "    </tr>\n",
       "  </thead>\n",
       "  <tbody>\n",
       "    <tr>\n",
       "      <th>0</th>\n",
       "      <td>&lt;http://franz.com/Bilbo&gt;</td>\n",
       "      <td>&lt;http://franz.com/Frodo&gt;</td>\n",
       "      <td>&lt;http://franz.com/Lobelia&gt;</td>\n",
       "    </tr>\n",
       "  </tbody>\n",
       "</table>\n",
       "</div>"
      ],
      "text/plain": [
       "                     being1                    being2  \\\n",
       "0  <http://franz.com/Bilbo>  <http://franz.com/Frodo>   \n",
       "\n",
       "              bitterOldPerson  \n",
       "0  <http://franz.com/Lobelia>  "
      ]
     },
     "execution_count": 72,
     "metadata": {},
     "output_type": "execute_result"
    }
   ],
   "source": [
    "query_string = \"\"\"\n",
    "    PREFIX : <http://franz.com/>\n",
    "    \n",
    "    SELECT ?being1 ?being2 ?bitterOldPerson WHERE {\n",
    "        << ?being1 :hasHeir ?being2 >> :dislikedBy ?bitterOldPerson . }\"\"\"\n",
    "result = conn.executeTupleQuery(query_string).toPandas()\n",
    "result"
   ]
  },
  {
   "cell_type": "markdown",
   "id": "5beba4bd-9231-4c29-9340-482a525a27c7",
   "metadata": {},
   "source": [
    "We can also query use the following syntax, called the [annotation syntax](https://www.w3.org/2021/12/rdf-star.html#dfn-annotation-syntax). This syntax is used to identify triples that are both **asserted** and **quoted**"
   ]
  },
  {
   "cell_type": "code",
   "execution_count": 73,
   "id": "1ba577f8-102d-44b7-8ae9-4a71caa326a6",
   "metadata": {},
   "outputs": [
    {
     "data": {
      "text/html": [
       "<div>\n",
       "<style scoped>\n",
       "    .dataframe tbody tr th:only-of-type {\n",
       "        vertical-align: middle;\n",
       "    }\n",
       "\n",
       "    .dataframe tbody tr th {\n",
       "        vertical-align: top;\n",
       "    }\n",
       "\n",
       "    .dataframe thead th {\n",
       "        text-align: right;\n",
       "    }\n",
       "</style>\n",
       "<table border=\"1\" class=\"dataframe\">\n",
       "  <thead>\n",
       "    <tr style=\"text-align: right;\">\n",
       "      <th></th>\n",
       "      <th>being1</th>\n",
       "      <th>being2</th>\n",
       "      <th>bitterOldPerson</th>\n",
       "    </tr>\n",
       "  </thead>\n",
       "  <tbody>\n",
       "    <tr>\n",
       "      <th>0</th>\n",
       "      <td>&lt;http://franz.com/Bilbo&gt;</td>\n",
       "      <td>&lt;http://franz.com/Frodo&gt;</td>\n",
       "      <td>&lt;http://franz.com/Lobelia&gt;</td>\n",
       "    </tr>\n",
       "  </tbody>\n",
       "</table>\n",
       "</div>"
      ],
      "text/plain": [
       "                     being1                    being2  \\\n",
       "0  <http://franz.com/Bilbo>  <http://franz.com/Frodo>   \n",
       "\n",
       "              bitterOldPerson  \n",
       "0  <http://franz.com/Lobelia>  "
      ]
     },
     "execution_count": 73,
     "metadata": {},
     "output_type": "execute_result"
    }
   ],
   "source": [
    "query_string = \"\"\"\n",
    "    PREFIX : <http://franz.com/>\n",
    "    \n",
    "    SELECT ?being1 ?being2 ?bitterOldPerson where {\n",
    "        ?being1 :hasHeir ?being2 {| :dislikedBy ?bitterOldPerson |} }\"\"\"\n",
    "result = conn.executeTupleQuery(query_string).toPandas()\n",
    "result"
   ]
  },
  {
   "cell_type": "markdown",
   "id": "d504abfa-f616-43a7-a81c-fcc121dabee5",
   "metadata": {},
   "source": [
    "Because the triple is **asserted** we can also query for the info without including any **RDF-star** syntax."
   ]
  },
  {
   "cell_type": "code",
   "execution_count": 74,
   "id": "95881b36-df49-425d-b003-f9a9e6fbe46d",
   "metadata": {},
   "outputs": [
    {
     "data": {
      "text/html": [
       "<div>\n",
       "<style scoped>\n",
       "    .dataframe tbody tr th:only-of-type {\n",
       "        vertical-align: middle;\n",
       "    }\n",
       "\n",
       "    .dataframe tbody tr th {\n",
       "        vertical-align: top;\n",
       "    }\n",
       "\n",
       "    .dataframe thead th {\n",
       "        text-align: right;\n",
       "    }\n",
       "</style>\n",
       "<table border=\"1\" class=\"dataframe\">\n",
       "  <thead>\n",
       "    <tr style=\"text-align: right;\">\n",
       "      <th></th>\n",
       "      <th>being1</th>\n",
       "      <th>being2</th>\n",
       "    </tr>\n",
       "  </thead>\n",
       "  <tbody>\n",
       "    <tr>\n",
       "      <th>0</th>\n",
       "      <td>&lt;http://franz.com/Bilbo&gt;</td>\n",
       "      <td>&lt;http://franz.com/Frodo&gt;</td>\n",
       "    </tr>\n",
       "  </tbody>\n",
       "</table>\n",
       "</div>"
      ],
      "text/plain": [
       "                     being1                    being2\n",
       "0  <http://franz.com/Bilbo>  <http://franz.com/Frodo>"
      ]
     },
     "execution_count": 74,
     "metadata": {},
     "output_type": "execute_result"
    }
   ],
   "source": [
    "query_string = \"\"\"\n",
    "    PREFIX : <http://franz.com/>\n",
    "    \n",
    "    SELECT ?being1 ?being2 WHERE {\n",
    "        ?being1 :hasHeir ?being2 }\"\"\"\n",
    "result = conn.executeTupleQuery(query_string).toPandas()\n",
    "result"
   ]
  },
  {
   "cell_type": "markdown",
   "id": "56cc79b7-3eb9-4326-bb74-987ba9069a54",
   "metadata": {},
   "source": [
    "It is very important to be cognizant of the difference between **asserted** and **quoted** triples. The following query *only* quotes a triple, and does *not* assert it."
   ]
  },
  {
   "cell_type": "code",
   "execution_count": 75,
   "id": "a1834301-5a54-4e5d-9c2d-4525442eaf99",
   "metadata": {},
   "outputs": [],
   "source": [
    "conn.addData(\"\"\"\n",
    "    PREFIX : <http://franz.com/>\n",
    "    PREFIX rdfs: <http://www.w3.org/2000/01/rdf-schema#>\n",
    "    \n",
    "    :Gollum :name \"Gollum\" ; a :Stoor .\n",
    "    :Stoor rdfs:subClassOf :Hobbit .\n",
    "    \n",
    "    << :Gollum :willNotHarm :Frodo >> :accordingTo :Gollum . \"\"\")"
   ]
  },
  {
   "cell_type": "markdown",
   "id": "6f13271d-76d9-4e8a-82fb-2b842d949cda",
   "metadata": {},
   "source": [
    "When we query for who `:willNotHarm :Frodo` we get no results, because this is only `:accordingTo :Gollum` and is not a fact in the graph."
   ]
  },
  {
   "cell_type": "code",
   "execution_count": 76,
   "id": "e275ccef-88ab-4c8b-9a78-5b772f1a8f77",
   "metadata": {},
   "outputs": [
    {
     "data": {
      "text/html": [
       "<div>\n",
       "<style scoped>\n",
       "    .dataframe tbody tr th:only-of-type {\n",
       "        vertical-align: middle;\n",
       "    }\n",
       "\n",
       "    .dataframe tbody tr th {\n",
       "        vertical-align: top;\n",
       "    }\n",
       "\n",
       "    .dataframe thead th {\n",
       "        text-align: right;\n",
       "    }\n",
       "</style>\n",
       "<table border=\"1\" class=\"dataframe\">\n",
       "  <thead>\n",
       "    <tr style=\"text-align: right;\">\n",
       "      <th></th>\n",
       "      <th>being</th>\n",
       "    </tr>\n",
       "  </thead>\n",
       "  <tbody>\n",
       "  </tbody>\n",
       "</table>\n",
       "</div>"
      ],
      "text/plain": [
       "Empty DataFrame\n",
       "Columns: [being]\n",
       "Index: []"
      ]
     },
     "execution_count": 76,
     "metadata": {},
     "output_type": "execute_result"
    }
   ],
   "source": [
    "query_string = \"\"\"\n",
    "    PREFIX : <http://franz.com/>\n",
    "    \n",
    "    SELECT ?being WHERE {\n",
    "        ?being :willNotHarm :Frodo . }\"\"\"\n",
    "result = conn.executeTupleQuery(query_string).toPandas()\n",
    "result"
   ]
  },
  {
   "cell_type": "markdown",
   "id": "75543e02-9649-4cbf-808a-1f22b0e8d0e8",
   "metadata": {},
   "source": [
    "If you use the Annotation Syntax mentioned above the following `Turtle-star` will result in **quoted** and **asserted** triple."
   ]
  },
  {
   "cell_type": "code",
   "execution_count": 77,
   "id": "eeed6ac7-237e-4040-9282-d8393e89be4b",
   "metadata": {},
   "outputs": [],
   "source": [
    "conn.addData(\"\"\"\n",
    "    PREFIX : <http://franz.com/>\n",
    "    \n",
    "    :TheRing :name \"Ring of Power\" ; a :RingOfPower .\n",
    "    \n",
    "    :Gollum :loves :TheRing {| :accordingTo :Gollum |} . \"\"\")"
   ]
  },
  {
   "cell_type": "markdown",
   "id": "f13aa788-6eb0-49f4-b10b-21c5f88e8098",
   "metadata": {},
   "source": [
    "Now, if we query who `:loves :TheRing` we get the correct result, because the statement was added as a **quoted** and **asserted** triple."
   ]
  },
  {
   "cell_type": "code",
   "execution_count": 78,
   "id": "9fb2373e-cbc4-43f6-9cdf-f2223af2fce5",
   "metadata": {},
   "outputs": [
    {
     "data": {
      "text/html": [
       "<div>\n",
       "<style scoped>\n",
       "    .dataframe tbody tr th:only-of-type {\n",
       "        vertical-align: middle;\n",
       "    }\n",
       "\n",
       "    .dataframe tbody tr th {\n",
       "        vertical-align: top;\n",
       "    }\n",
       "\n",
       "    .dataframe thead th {\n",
       "        text-align: right;\n",
       "    }\n",
       "</style>\n",
       "<table border=\"1\" class=\"dataframe\">\n",
       "  <thead>\n",
       "    <tr style=\"text-align: right;\">\n",
       "      <th></th>\n",
       "      <th>being</th>\n",
       "    </tr>\n",
       "  </thead>\n",
       "  <tbody>\n",
       "    <tr>\n",
       "      <th>0</th>\n",
       "      <td>&lt;http://franz.com/Gollum&gt;</td>\n",
       "    </tr>\n",
       "  </tbody>\n",
       "</table>\n",
       "</div>"
      ],
      "text/plain": [
       "                       being\n",
       "0  <http://franz.com/Gollum>"
      ]
     },
     "execution_count": 78,
     "metadata": {},
     "output_type": "execute_result"
    }
   ],
   "source": [
    "query_string = \"\"\"\n",
    "    PREFIX : <http://franz.com/>\n",
    "    \n",
    "    SELECT ?being WHERE {\n",
    "        ?being :loves :TheRing . }\"\"\"\n",
    "result = conn.executeTupleQuery(query_string).toPandas()\n",
    "result"
   ]
  },
  {
   "cell_type": "markdown",
   "id": "2a008d91-5e84-466a-a4eb-f529727e97df",
   "metadata": {},
   "source": [
    "## Adding and querying data using Agraph Python Interface without Turtle or SPARQL\n",
    "\n",
    "It is also possible to add data to the graph without writing `Turtle-star` and querying the graph without `SPARQL-star`. First we import the `QuotedTriple` class and create a namespace that can be used locally with our python."
   ]
  },
  {
   "cell_type": "code",
   "execution_count": 79,
   "id": "5f734f3c-7936-41fc-93c3-ace8e4d56dc2",
   "metadata": {},
   "outputs": [],
   "source": [
    "from franz.openrdf.model import QuotedTriple\n",
    "\n",
    "f = conn.namespace('http://franz.com/')"
   ]
  },
  {
   "cell_type": "markdown",
   "id": "90604d74-68dd-4168-aec2-095ddc1e9434",
   "metadata": {},
   "source": [
    "Here we create a **quoted** triple:"
   ]
  },
  {
   "cell_type": "code",
   "execution_count": 80,
   "id": "97b80159-753a-4318-8033-73b96452a8d5",
   "metadata": {},
   "outputs": [],
   "source": [
    "quoted_triple = QuotedTriple(f.Frodo, f.carries, f.TheRing)"
   ]
  },
  {
   "cell_type": "markdown",
   "id": "c24b7804-3fe9-4deb-bf8d-9c1dff7b97af",
   "metadata": {},
   "source": [
    "We can access the elements of the **quoted** triple using the usual methods:"
   ]
  },
  {
   "cell_type": "code",
   "execution_count": 81,
   "id": "c8a76a14-5c21-4109-ac31-7ae31e4b49a5",
   "metadata": {},
   "outputs": [
    {
     "data": {
      "text/plain": [
       "<http://franz.com/Frodo>"
      ]
     },
     "execution_count": 81,
     "metadata": {},
     "output_type": "execute_result"
    }
   ],
   "source": [
    "quoted_triple.getSubject()"
   ]
  },
  {
   "cell_type": "markdown",
   "id": "1becfb85-8991-44a2-a940-3ca7e7b5b1df",
   "metadata": {},
   "source": [
    "Now we can add a **quoted** triple using the usual `addTriple` method. This is the same as the following turtle syntax:\n",
    "```\n",
    "    PREFIX : <http://franz.com/>\n",
    "    \n",
    "    << :Frodo :carries :TheRing >> :unbeknownstTo :Sauron .\n",
    "```\n",
    "Note that this is only adding a **quoted** triple, and *not* an **asserted** triple."
   ]
  },
  {
   "cell_type": "code",
   "execution_count": 82,
   "id": "c47d627b-5a35-4bd3-b40d-8cd6d68677fb",
   "metadata": {},
   "outputs": [],
   "source": [
    "conn.addTriple(quoted_triple, f.unbeknownstTo, f.Sauron)"
   ]
  },
  {
   "cell_type": "markdown",
   "id": "631eb743-5405-4cb9-a9c2-db5733887665",
   "metadata": {},
   "source": [
    "Querying using the `getStatements` method we see that the subject is the **quoted** triple."
   ]
  },
  {
   "cell_type": "code",
   "execution_count": 83,
   "id": "89f09de4-d164-492e-8964-52d2b521f73b",
   "metadata": {},
   "outputs": [
    {
     "data": {
      "text/html": [
       "<div>\n",
       "<style scoped>\n",
       "    .dataframe tbody tr th:only-of-type {\n",
       "        vertical-align: middle;\n",
       "    }\n",
       "\n",
       "    .dataframe tbody tr th {\n",
       "        vertical-align: top;\n",
       "    }\n",
       "\n",
       "    .dataframe thead th {\n",
       "        text-align: right;\n",
       "    }\n",
       "</style>\n",
       "<table border=\"1\" class=\"dataframe\">\n",
       "  <thead>\n",
       "    <tr style=\"text-align: right;\">\n",
       "      <th></th>\n",
       "      <th>s</th>\n",
       "      <th>p</th>\n",
       "      <th>o</th>\n",
       "      <th>g</th>\n",
       "    </tr>\n",
       "  </thead>\n",
       "  <tbody>\n",
       "    <tr>\n",
       "      <th>0</th>\n",
       "      <td>&lt;&lt; &lt;http://franz.com/Frodo&gt; &lt;http://franz.com/...</td>\n",
       "      <td>&lt;http://franz.com/unbeknownstTo&gt;</td>\n",
       "      <td>&lt;http://franz.com/Sauron&gt;</td>\n",
       "      <td>None</td>\n",
       "    </tr>\n",
       "  </tbody>\n",
       "</table>\n",
       "</div>"
      ],
      "text/plain": [
       "                                                   s  \\\n",
       "0  << <http://franz.com/Frodo> <http://franz.com/...   \n",
       "\n",
       "                                  p                          o     g  \n",
       "0  <http://franz.com/unbeknownstTo>  <http://franz.com/Sauron>  None  "
      ]
     },
     "execution_count": 83,
     "metadata": {},
     "output_type": "execute_result"
    }
   ],
   "source": [
    "df = conn.getStatements(None, f.unbeknownstTo, None).toPandas()\n",
    "df"
   ]
  },
  {
   "cell_type": "markdown",
   "id": "e037e713-6cd6-4156-8d2b-382d60ae2017",
   "metadata": {},
   "source": [
    "Taking a closer look at the **quoted** triple in the pandas DataFrame"
   ]
  },
  {
   "cell_type": "code",
   "execution_count": 84,
   "id": "77355815-7f2c-4393-a8d7-401a10345e60",
   "metadata": {},
   "outputs": [
    {
     "data": {
      "text/plain": [
       "'<< <http://franz.com/Frodo> <http://franz.com/carries> <http://franz.com/TheRing> >>'"
      ]
     },
     "execution_count": 84,
     "metadata": {},
     "output_type": "execute_result"
    }
   ],
   "source": [
    "df['s'][0]"
   ]
  },
  {
   "cell_type": "markdown",
   "id": "4d51759f-d099-4251-bc0a-bcf63be52220",
   "metadata": {},
   "source": [
    "Also, if we iterate through all statements generated by the `getStatements` method, we can see that the value of the `Subject` of the following query is a `QuotedTriple`, and that we can access the individual elements (i.e. `Subject`, `Predicate`, `Object`)."
   ]
  },
  {
   "cell_type": "code",
   "execution_count": 85,
   "id": "131e2a19-2a2c-4494-97c6-fbcd6a6f2261",
   "metadata": {},
   "outputs": [
    {
     "name": "stdout",
     "output_type": "stream",
     "text": [
      "<class 'franz.openrdf.model.value.QuotedTriple'>\n",
      "<http://franz.com/Frodo> <http://franz.com/carries> <http://franz.com/TheRing>\n"
     ]
    }
   ],
   "source": [
    "statements = conn.getStatements(None, f.unbeknownstTo, None)\n",
    "with statements:\n",
    "    for statement in statements:\n",
    "        quoted_triple = statement.getSubject() # the quoted triple \n",
    "        print(type(quoted_triple))\n",
    "        print(quoted_triple.getSubject(), quoted_triple.getPredicate(), quoted_triple.getObject())\n",
    "    "
   ]
  },
  {
   "cell_type": "markdown",
   "id": "b69f01f7-9851-4d9c-8850-df2030f44626",
   "metadata": {},
   "source": [
    "Finally, can see the full graph here!:\n",
    "    \n",
    "![all relationships](images/fullRelationships.png)"
   ]
  },
  {
   "cell_type": "code",
   "execution_count": null,
   "id": "f0b7790a-f988-4792-9b71-d2f49fcc2bfa",
   "metadata": {},
   "outputs": [],
   "source": []
  }
 ],
 "metadata": {
  "kernelspec": {
   "display_name": "Python [conda env:rdf-star-3] *",
   "language": "python",
   "name": "conda-env-rdf-star-3-py"
  },
  "language_info": {
   "codemirror_mode": {
    "name": "ipython",
    "version": 3
   },
   "file_extension": ".py",
   "mimetype": "text/x-python",
   "name": "python",
   "nbconvert_exporter": "python",
   "pygments_lexer": "ipython3",
   "version": "3.10.13"
  }
 },
 "nbformat": 4,
 "nbformat_minor": 5
}
