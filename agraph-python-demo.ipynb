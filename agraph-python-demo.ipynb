{
 "cells": [
  {
   "cell_type": "markdown",
   "id": "7cc87e15-079a-4409-aafd-16839adae4e1",
   "metadata": {},
   "source": [
    "## Setup\n",
    "\n",
    "If you are connecting in a regular jupyter notebook and have activated our `ag-tutorial` environment then you do not need to run the following two cells to install `agraph-python` and `pandas`. However if you are in a **Google Colab** please run the following cell."
   ]
  },
  {
   "cell_type": "code",
   "execution_count": null,
   "id": "3f48eb2c-453e-44f5-9172-f9197d6edf56",
   "metadata": {},
   "outputs": [],
   "source": [
    "%pip install agraph-python pycurl"
   ]
  },
  {
   "cell_type": "markdown",
   "id": "a2e7543b-5e2b-42b3-af6e-275b4588402a",
   "metadata": {},
   "source": [
    "We start by setting the environment variables based on your server installation.\n",
    "If you are connecting on a cloud server, you do not need to change `AGRAPH_PORT` or `AGRAPH_USER`, but you do need to change `AGRAPH_HOST` and `AGRAPH_PASSWORD` to fit your server. We have left some variables in place as an example of what to look for, but they need to be replaced with your values.\n",
    "If you are connecting to a local installation the host will most likely be `localhost` and whatever port you installed AllegroGraph on (standard is `10035`). Then your `AGRAPH_USER` and `AGRAPH_PASSWORD` need to be added."
   ]
  },
  {
   "cell_type": "code",
   "execution_count": 1,
   "id": "e9855f02-52dc-4937-b3bb-60751ff036a5",
   "metadata": {},
   "outputs": [],
   "source": [
    "import os\n",
    "\n",
    "os.environ['AGRAPH_HOST'] = 'https://ag197y8xsj2epl2e.allegrograph.cloud' #add your AllegroGraph Cloud url here (starting with https, copy till the end of allegrograph.cloud)\n",
    "os.environ['AGRAPH_PORT'] = '443' #Agraph is listening at port 443, you do not need to change this\n",
    "os.environ['AGRAPH_USER'] = 'admin' #your username should be 'admin', you do not need to change this\n",
    "os.environ['AGRAPH_PASSWORD'] = 'GrMEKDvQFaN2bkrHJeiCbv' #Add your password here as a string"
   ]
  },
  {
   "cell_type": "markdown",
   "id": "8d91635e-55e7-4fcd-81e4-0f22d5184cba",
   "metadata": {},
   "source": [
    "# Adding and Querying Data with Python in AllegroGraph\n",
    "\n",
    "We start by making a connection object to a repository at the specified server location."
   ]
  },
  {
   "cell_type": "code",
   "execution_count": 2,
   "id": "27c4e27f-d747-4e9c-9320-eb8b811757bc",
   "metadata": {},
   "outputs": [],
   "source": [
    "from franz.openrdf.connect import ag_connect\n",
    "\n",
    "conn = ag_connect('agraph-example', clear=True)"
   ]
  },
  {
   "cell_type": "markdown",
   "id": "259dc3c3-8dca-4118-87cf-a9a7c39ae55f",
   "metadata": {},
   "source": [
    "Get the size of the repository"
   ]
  },
  {
   "cell_type": "code",
   "execution_count": 3,
   "id": "c08a89f7-6506-4bd7-920b-7863bca5a2ef",
   "metadata": {},
   "outputs": [
    {
     "data": {
      "text/plain": [
       "0"
      ]
     },
     "execution_count": 3,
     "metadata": {},
     "output_type": "execute_result"
    }
   ],
   "source": [
    "conn.size()"
   ]
  },
  {
   "cell_type": "markdown",
   "id": "40167728-dc42-4441-af09-b4c204e30d49",
   "metadata": {},
   "source": [
    "### Namespaces\n",
    "First we define a new namespace that we will use in our local python code."
   ]
  },
  {
   "cell_type": "code",
   "execution_count": 5,
   "id": "4f2eb954-8bc4-4fcd-bb10-c594c8492491",
   "metadata": {},
   "outputs": [],
   "source": [
    "f = conn.namespace('http://franz.com/')"
   ]
  },
  {
   "cell_type": "markdown",
   "id": "f8e1a23d-3bb6-4fb3-aed7-1f3a3297f58a",
   "metadata": {},
   "source": [
    "Once we've defined this we can use this namespace object to create any part of a triple."
   ]
  },
  {
   "cell_type": "code",
   "execution_count": 6,
   "id": "8fceee7b-a5f4-4882-bb46-8449c56af545",
   "metadata": {},
   "outputs": [
    {
     "data": {
      "text/plain": [
       "<http://franz.com/example>"
      ]
     },
     "execution_count": 6,
     "metadata": {},
     "output_type": "execute_result"
    }
   ],
   "source": [
    "f.example"
   ]
  },
  {
   "cell_type": "markdown",
   "id": "2e8ee21f-e981-4681-ae3e-5af8c8c6ffe4",
   "metadata": {},
   "source": [
    "### Adding triples\n",
    "Now we want to add our first triple using this namespace."
   ]
  },
  {
   "cell_type": "code",
   "execution_count": 7,
   "id": "615e01a2-a6ce-4135-9ba3-dafda90cf7ff",
   "metadata": {},
   "outputs": [
    {
     "data": {
      "text/plain": [
       "1"
      ]
     },
     "execution_count": 7,
     "metadata": {},
     "output_type": "execute_result"
    }
   ],
   "source": [
    "conn.add(f.being1, f.friendOf, f.being2)\n",
    "conn.size()"
   ]
  },
  {
   "cell_type": "markdown",
   "id": "1525fea5-1ca6-4583-98db-06ed715d9964",
   "metadata": {},
   "source": [
    "This predicate is an example of an object property, establishing a relationship between two objects (represented as URIs). Now, we want to add some data properties (descriptive data) to the two objects, and show how we can add multiple triples at a time if we add them to a list."
   ]
  },
  {
   "cell_type": "code",
   "execution_count": 8,
   "id": "cca880d4-85d9-4915-9783-0872d60c0e21",
   "metadata": {},
   "outputs": [
    {
     "data": {
      "text/plain": [
       "3"
      ]
     },
     "execution_count": 8,
     "metadata": {},
     "output_type": "execute_result"
    }
   ],
   "source": [
    "triples = []\n",
    "triples.append((f.being1, f.name, \"Frodo\"))\n",
    "triples.append((f.being2, f.name, \"Gandalf\"))\n",
    "conn.addTriples(triples)\n",
    "conn.size()"
   ]
  },
  {
   "cell_type": "markdown",
   "id": "1406b4cd-d81e-4ec9-9836-49f046a90545",
   "metadata": {},
   "source": [
    "### Querying the data\n",
    "Now we query for the existing data in the graph. "
   ]
  },
  {
   "cell_type": "code",
   "execution_count": 9,
   "id": "5f1b7005-fc82-42fa-aa68-3622a1954aec",
   "metadata": {},
   "outputs": [
    {
     "name": "stdout",
     "output_type": "stream",
     "text": [
      "<http://franz.com/being1> <http://franz.com/friendOf> <http://franz.com/being2>\n",
      "<http://franz.com/being1> <http://franz.com/name> \"Frodo\"\n",
      "<http://franz.com/being2> <http://franz.com/name> \"Gandalf\"\n"
     ]
    }
   ],
   "source": [
    "from franz.openrdf.query.query import QueryLanguage\n",
    "\n",
    "query_string = \"\"\"SELECT ?s ?p ?o  \n",
    "                  WHERE {?s ?p ?o . }\"\"\"\n",
    "result = conn.prepareTupleQuery(QueryLanguage.SPARQL, query_string).evaluate()\n",
    "with result:\n",
    "    for binding_set in result:\n",
    "        s = binding_set.getValue('s')\n",
    "        p = binding_set.getValue('p')\n",
    "        o = binding_set.getValue('o')\n",
    "        print(s, p, o)"
   ]
  },
  {
   "cell_type": "markdown",
   "id": "27f937b9-549d-49cb-9baf-339f6b364689",
   "metadata": {},
   "source": [
    "This is probably the most verbose method of displaying the output of the query, we also frequently directly place the results in a Pandas dataframe."
   ]
  },
  {
   "cell_type": "code",
   "execution_count": 10,
   "id": "a78f63d4-c949-40d8-8b65-66164396d737",
   "metadata": {},
   "outputs": [
    {
     "data": {
      "text/html": [
       "<div>\n",
       "<style scoped>\n",
       "    .dataframe tbody tr th:only-of-type {\n",
       "        vertical-align: middle;\n",
       "    }\n",
       "\n",
       "    .dataframe tbody tr th {\n",
       "        vertical-align: top;\n",
       "    }\n",
       "\n",
       "    .dataframe thead th {\n",
       "        text-align: right;\n",
       "    }\n",
       "</style>\n",
       "<table border=\"1\" class=\"dataframe\">\n",
       "  <thead>\n",
       "    <tr style=\"text-align: right;\">\n",
       "      <th></th>\n",
       "      <th>s</th>\n",
       "      <th>p</th>\n",
       "      <th>o</th>\n",
       "    </tr>\n",
       "  </thead>\n",
       "  <tbody>\n",
       "    <tr>\n",
       "      <th>0</th>\n",
       "      <td>&lt;http://franz.com/being1&gt;</td>\n",
       "      <td>&lt;http://franz.com/friendOf&gt;</td>\n",
       "      <td>&lt;http://franz.com/being2&gt;</td>\n",
       "    </tr>\n",
       "    <tr>\n",
       "      <th>1</th>\n",
       "      <td>&lt;http://franz.com/being1&gt;</td>\n",
       "      <td>&lt;http://franz.com/name&gt;</td>\n",
       "      <td>Frodo</td>\n",
       "    </tr>\n",
       "    <tr>\n",
       "      <th>2</th>\n",
       "      <td>&lt;http://franz.com/being2&gt;</td>\n",
       "      <td>&lt;http://franz.com/name&gt;</td>\n",
       "      <td>Gandalf</td>\n",
       "    </tr>\n",
       "  </tbody>\n",
       "</table>\n",
       "</div>"
      ],
      "text/plain": [
       "                           s                            p  \\\n",
       "0  <http://franz.com/being1>  <http://franz.com/friendOf>   \n",
       "1  <http://franz.com/being1>      <http://franz.com/name>   \n",
       "2  <http://franz.com/being2>      <http://franz.com/name>   \n",
       "\n",
       "                           o  \n",
       "0  <http://franz.com/being2>  \n",
       "1                      Frodo  \n",
       "2                    Gandalf  "
      ]
     },
     "execution_count": 10,
     "metadata": {},
     "output_type": "execute_result"
    }
   ],
   "source": [
    "df = conn.executeTupleQuery(query_string).toPandas()\n",
    "df"
   ]
  },
  {
   "cell_type": "markdown",
   "id": "b63643b1-82ba-4e3d-a6c6-c36efc7da280",
   "metadata": {},
   "source": [
    "### Adding labels and types\n",
    "Let's look at the data in Gruff..."
   ]
  },
  {
   "cell_type": "markdown",
   "id": "ef96ba5c-c7cc-49ed-82f1-dd6369427da7",
   "metadata": {},
   "source": [
    "![beings-without-types](images/beings-without-types.png)"
   ]
  },
  {
   "cell_type": "markdown",
   "id": "84501ef7-d212-44f9-9a35-d93724d9ee47",
   "metadata": {},
   "source": [
    "It is also very simple to add `rdf` types, and `rdfs` labels (among other things), so let's make this picture a bit nicer (and the data more expressive and usable)"
   ]
  },
  {
   "cell_type": "code",
   "execution_count": 11,
   "id": "cb567651-5a9f-47b5-bada-67738ae2a787",
   "metadata": {},
   "outputs": [],
   "source": [
    "from franz.openrdf.vocabulary import RDF, RDFS\n",
    "\n",
    "triples = []\n",
    "triples.append((f.being1, RDF.TYPE, f.Hobbit))\n",
    "triples.append((f.being2, RDF.TYPE, f.Wizard)) #Istari for the real nerds out there\n",
    "triples.append((f.being1, RDFS.LABEL, \"Frodo\"))\n",
    "triples.append((f.being2, RDFS.LABEL, \"Gandalf\"))\n",
    "conn.addTriples(triples)"
   ]
  },
  {
   "cell_type": "markdown",
   "id": "a44bf03b-e404-4183-928d-bdac435554af",
   "metadata": {},
   "source": [
    "![beings-with-types](images/beings-with-types.png)"
   ]
  },
  {
   "cell_type": "markdown",
   "id": "c5e935cd-aafa-4948-8ec3-d3251b7bbe89",
   "metadata": {},
   "source": [
    "### Literals\n",
    "We can also add different types of literals and then query for those values"
   ]
  },
  {
   "cell_type": "code",
   "execution_count": 12,
   "id": "ec4b94b4-1fa2-4869-9d71-b2a86eb87268",
   "metadata": {},
   "outputs": [],
   "source": [
    "from franz.openrdf.vocabulary.xmlschema import XMLSchema\n",
    "from datetime import datetime, date, time\n",
    "\n",
    "triples = []\n",
    "triples.append((f.being1, f.age, conn.createLiteral(50, datatype=XMLSchema.INT)))\n",
    "triples.append((f.being1, f.weight, conn.createLiteral(100.5, datatype=XMLSchema.FLOAT)))\n",
    "triples.append((f.being1, f.dob, date(1994, 10, 11)))\n",
    "conn.addTriples(triples)"
   ]
  },
  {
   "cell_type": "markdown",
   "id": "c4e7b572-dcb9-4762-98ac-2f3acc9fca05",
   "metadata": {},
   "source": [
    "First, before we start quering the graph with more specific queries we need to declare the namespace to the server as well"
   ]
  },
  {
   "cell_type": "code",
   "execution_count": 13,
   "id": "cd2620ac-4290-4ae7-9df9-a0c682542a43",
   "metadata": {},
   "outputs": [],
   "source": [
    "conn.setNamespace('f', 'http://franz.com/')"
   ]
  },
  {
   "cell_type": "code",
   "execution_count": 14,
   "id": "9d06bb55-4238-4991-826d-73a7d4609100",
   "metadata": {},
   "outputs": [
    {
     "name": "stdout",
     "output_type": "stream",
     "text": [
      "<http://franz.com/being1> <class 'franz.openrdf.model.value.URI'>\n",
      "\"50\"^^<http://www.w3.org/2001/XMLSchema#int> <class 'franz.openrdf.model.literal.Literal'>\n",
      "\"1.005E2\"^^<http://www.w3.org/2001/XMLSchema#float> <class 'franz.openrdf.model.literal.Literal'>\n",
      "\"1994-10-11\"^^<http://www.w3.org/2001/XMLSchema#date> <class 'franz.openrdf.model.literal.Literal'>\n"
     ]
    }
   ],
   "source": [
    "query_string = \"\"\"\n",
    "    select ?being ?age ?weight ?dob where {\n",
    "        ?being  f:age ?age ;\n",
    "                f:weight ?weight ;\n",
    "                f:dob ?dob . } \"\"\"\n",
    "result = conn.prepareTupleQuery(QueryLanguage.SPARQL, query_string).evaluate()\n",
    "with result:\n",
    "    for binding_set in result:\n",
    "        being = binding_set.getValue('being')\n",
    "        age = binding_set.getValue('age')\n",
    "        weight = binding_set.getValue('weight')\n",
    "        dob = binding_set.getValue('dob')\n",
    "        print(being, type(being))\n",
    "        print(age, type(age))\n",
    "        print(weight, type(weight))\n",
    "        print(dob, type(dob))"
   ]
  },
  {
   "cell_type": "markdown",
   "id": "e372384a-dd64-4b83-8ee4-4f7fcccf7d9a",
   "metadata": {},
   "source": [
    "Now we will run this same query but grab the actual desired values."
   ]
  },
  {
   "cell_type": "code",
   "execution_count": 15,
   "id": "504c7820-91b7-4a9a-8039-1dbf307c8ab8",
   "metadata": {},
   "outputs": [
    {
     "name": "stdout",
     "output_type": "stream",
     "text": [
      "<http://franz.com/being1> http://franz.com/ being1 <class 'franz.openrdf.model.value.URI'>\n",
      "50 <class 'int'>\n",
      "100.5 <class 'float'>\n",
      "1994-10-11 <class 'datetime.date'>\n"
     ]
    }
   ],
   "source": [
    "result = conn.prepareTupleQuery(QueryLanguage.SPARQL, query_string).evaluate()\n",
    "with result:\n",
    "    for binding_set in result:\n",
    "        being = binding_set.getValue('being')\n",
    "        age = binding_set.getValue('age').intValue()\n",
    "        weight = binding_set.getValue('weight').floatValue()\n",
    "        dob = binding_set.getValue('dob').dateValue()\n",
    "        print(being, being.namespace, being.localname, type(being))\n",
    "        print(age, type(age))\n",
    "        print(weight, type(weight))\n",
    "        print(dob, type(dob))"
   ]
  },
  {
   "cell_type": "markdown",
   "id": "bcf7706f-4e67-433d-9cd3-dc5ca351656c",
   "metadata": {},
   "source": [
    "When you query and place the results in a dataframe it automatically converts literals into the correct python data types, but it doesn't do that for URIs since they are not an accepted pandas datatype"
   ]
  },
  {
   "cell_type": "code",
   "execution_count": 16,
   "id": "26e6bf20-f916-4a07-86ba-f1856c883d89",
   "metadata": {},
   "outputs": [
    {
     "data": {
      "text/html": [
       "<div>\n",
       "<style scoped>\n",
       "    .dataframe tbody tr th:only-of-type {\n",
       "        vertical-align: middle;\n",
       "    }\n",
       "\n",
       "    .dataframe tbody tr th {\n",
       "        vertical-align: top;\n",
       "    }\n",
       "\n",
       "    .dataframe thead th {\n",
       "        text-align: right;\n",
       "    }\n",
       "</style>\n",
       "<table border=\"1\" class=\"dataframe\">\n",
       "  <thead>\n",
       "    <tr style=\"text-align: right;\">\n",
       "      <th></th>\n",
       "      <th>being</th>\n",
       "      <th>age</th>\n",
       "      <th>weight</th>\n",
       "      <th>dob</th>\n",
       "    </tr>\n",
       "  </thead>\n",
       "  <tbody>\n",
       "    <tr>\n",
       "      <th>0</th>\n",
       "      <td>&lt;http://franz.com/being1&gt;</td>\n",
       "      <td>50</td>\n",
       "      <td>100.5</td>\n",
       "      <td>1994-10-11</td>\n",
       "    </tr>\n",
       "  </tbody>\n",
       "</table>\n",
       "</div>"
      ],
      "text/plain": [
       "                       being  age  weight         dob\n",
       "0  <http://franz.com/being1>   50   100.5  1994-10-11"
      ]
     },
     "execution_count": 16,
     "metadata": {},
     "output_type": "execute_result"
    }
   ],
   "source": [
    "df = conn.executeTupleQuery(query_string).toPandas()\n",
    "df"
   ]
  },
  {
   "cell_type": "code",
   "execution_count": 17,
   "id": "ad4f2edb-177c-4a76-b0db-15b62c0d5b5b",
   "metadata": {},
   "outputs": [
    {
     "name": "stdout",
     "output_type": "stream",
     "text": [
      "Being: <class 'str'>, age: <class 'numpy.int64'>, weight: <class 'numpy.float64'>, dob: <class 'datetime.date'>\n"
     ]
    }
   ],
   "source": [
    "print(f\"Being: {type(df['being'][0])}, age: {type(df['age'][0])}, weight: {type(df['weight'][0])}, dob: {type(df['dob'][0])}\")"
   ]
  },
  {
   "cell_type": "markdown",
   "id": "1c57338e-d6b9-43f4-b720-34ac8d88b6c0",
   "metadata": {},
   "source": [
    "### Query manipulation with f-strings"
   ]
  },
  {
   "cell_type": "code",
   "execution_count": 18,
   "id": "bc8ebc64-7a07-4b11-af43-37b631804a53",
   "metadata": {},
   "outputs": [
    {
     "data": {
      "text/html": [
       "<div>\n",
       "<style scoped>\n",
       "    .dataframe tbody tr th:only-of-type {\n",
       "        vertical-align: middle;\n",
       "    }\n",
       "\n",
       "    .dataframe tbody tr th {\n",
       "        vertical-align: top;\n",
       "    }\n",
       "\n",
       "    .dataframe thead th {\n",
       "        text-align: right;\n",
       "    }\n",
       "</style>\n",
       "<table border=\"1\" class=\"dataframe\">\n",
       "  <thead>\n",
       "    <tr style=\"text-align: right;\">\n",
       "      <th></th>\n",
       "      <th>predicate</th>\n",
       "      <th>object</th>\n",
       "    </tr>\n",
       "  </thead>\n",
       "  <tbody>\n",
       "    <tr>\n",
       "      <th>0</th>\n",
       "      <td>&lt;http://franz.com/dob&gt;</td>\n",
       "      <td>1994-10-11</td>\n",
       "    </tr>\n",
       "    <tr>\n",
       "      <th>1</th>\n",
       "      <td>&lt;http://franz.com/weight&gt;</td>\n",
       "      <td>100.5</td>\n",
       "    </tr>\n",
       "    <tr>\n",
       "      <th>2</th>\n",
       "      <td>&lt;http://franz.com/age&gt;</td>\n",
       "      <td>50</td>\n",
       "    </tr>\n",
       "    <tr>\n",
       "      <th>3</th>\n",
       "      <td>&lt;http://www.w3.org/2000/01/rdf-schema#label&gt;</td>\n",
       "      <td>Frodo</td>\n",
       "    </tr>\n",
       "    <tr>\n",
       "      <th>4</th>\n",
       "      <td>&lt;http://www.w3.org/1999/02/22-rdf-syntax-ns#type&gt;</td>\n",
       "      <td>&lt;http://franz.com/Hobbit&gt;</td>\n",
       "    </tr>\n",
       "    <tr>\n",
       "      <th>5</th>\n",
       "      <td>&lt;http://franz.com/name&gt;</td>\n",
       "      <td>Frodo</td>\n",
       "    </tr>\n",
       "    <tr>\n",
       "      <th>6</th>\n",
       "      <td>&lt;http://franz.com/friendOf&gt;</td>\n",
       "      <td>&lt;http://franz.com/being2&gt;</td>\n",
       "    </tr>\n",
       "  </tbody>\n",
       "</table>\n",
       "</div>"
      ],
      "text/plain": [
       "                                           predicate  \\\n",
       "0                             <http://franz.com/dob>   \n",
       "1                          <http://franz.com/weight>   \n",
       "2                             <http://franz.com/age>   \n",
       "3       <http://www.w3.org/2000/01/rdf-schema#label>   \n",
       "4  <http://www.w3.org/1999/02/22-rdf-syntax-ns#type>   \n",
       "5                            <http://franz.com/name>   \n",
       "6                        <http://franz.com/friendOf>   \n",
       "\n",
       "                      object  \n",
       "0                 1994-10-11  \n",
       "1                      100.5  \n",
       "2                         50  \n",
       "3                      Frodo  \n",
       "4  <http://franz.com/Hobbit>  \n",
       "5                      Frodo  \n",
       "6  <http://franz.com/being2>  "
      ]
     },
     "execution_count": 18,
     "metadata": {},
     "output_type": "execute_result"
    }
   ],
   "source": [
    "def find_values_per_id(identifier):\n",
    "    query_string = f\"select ?predicate ?object where {{ f:being{str(identifier)} ?predicate ?object . }}\"\n",
    "    df = conn.executeTupleQuery(query_string).toPandas()\n",
    "    return df\n",
    "\n",
    "find_values_per_id(1)"
   ]
  },
  {
   "cell_type": "markdown",
   "id": "e4eb06f8-5562-4672-bc31-9cf961003ee4",
   "metadata": {},
   "source": [
    "### Adding a graph\n",
    "It is also very simple to add a fourth element to any triples"
   ]
  },
  {
   "cell_type": "code",
   "execution_count": 19,
   "id": "d77f80b7-94d3-4834-8e7a-743011db9d7d",
   "metadata": {},
   "outputs": [],
   "source": [
    "conn.add(f.being2, f.age, conn.createLiteral(2000, datatype=XMLSchema.INT), f.Tolkien)"
   ]
  },
  {
   "cell_type": "markdown",
   "id": "4609c517-6928-4dcb-ba74-b228104ce6a4",
   "metadata": {},
   "source": [
    "Note the fourth element of the triple at the right most part of the screen"
   ]
  },
  {
   "cell_type": "markdown",
   "id": "4281b826-b966-4ea1-b4f9-07951d6c5d8d",
   "metadata": {},
   "source": [
    "![beings-with-types](images/beings-with-graphs.png)"
   ]
  },
  {
   "cell_type": "markdown",
   "id": "786785cb-2686-481e-b346-87882fc81847",
   "metadata": {},
   "source": [
    "### Deleting duplicates\n",
    "First let's see how many triples are currently in the graph"
   ]
  },
  {
   "cell_type": "code",
   "execution_count": 20,
   "id": "b0338bc7-8170-4c47-b103-0046c44c4d74",
   "metadata": {},
   "outputs": [
    {
     "data": {
      "text/plain": [
       "11"
      ]
     },
     "execution_count": 20,
     "metadata": {},
     "output_type": "execute_result"
    }
   ],
   "source": [
    "conn.size()"
   ]
  },
  {
   "cell_type": "markdown",
   "id": "40200fdd-a747-453c-8c06-2f972dde4943",
   "metadata": {},
   "source": [
    "Now let's add some new triples and add some duplicates as well. "
   ]
  },
  {
   "cell_type": "code",
   "execution_count": 21,
   "id": "0b48a81d-39ae-40a2-9b7a-725063ecdbc8",
   "metadata": {},
   "outputs": [
    {
     "data": {
      "text/plain": [
       "14"
      ]
     },
     "execution_count": 21,
     "metadata": {},
     "output_type": "execute_result"
    }
   ],
   "source": [
    "triples = []\n",
    "triples.append((f.being2, f.hasRing, f.ring1))\n",
    "triples.append((f.ring1, f.ringName, \"Narya\"))\n",
    "triples.append((f.ring1, f.ringName, \"Narya\"))\n",
    "conn.addTriples(triples)\n",
    "conn.size()"
   ]
  },
  {
   "cell_type": "markdown",
   "id": "3112bf2e-e24c-4fc6-9233-3861babb69f5",
   "metadata": {},
   "source": [
    "Now we delete the duplicates"
   ]
  },
  {
   "cell_type": "code",
   "execution_count": 22,
   "id": "a0e76e4d-205f-4c2f-9c01-6718ea7163e4",
   "metadata": {},
   "outputs": [
    {
     "data": {
      "text/plain": [
       "13"
      ]
     },
     "execution_count": 22,
     "metadata": {},
     "output_type": "execute_result"
    }
   ],
   "source": [
    "conn.deleteDuplicates(mode='spo')\n",
    "conn.size()"
   ]
  },
  {
   "cell_type": "markdown",
   "id": "1737477a-dd6e-4159-8616-5ec618cd9710",
   "metadata": {},
   "source": [
    "### Exporting data and adding external files\n",
    "First we export the data"
   ]
  },
  {
   "cell_type": "code",
   "execution_count": 23,
   "id": "200e46be-dc07-462d-8f19-b3beac50163f",
   "metadata": {},
   "outputs": [],
   "source": [
    "conn.getStatements(output='tolkien-statements.nq')"
   ]
  },
  {
   "cell_type": "markdown",
   "id": "a04594da-edd5-4e8f-982a-41976207036e",
   "metadata": {},
   "source": [
    "Then we clear the database:"
   ]
  },
  {
   "cell_type": "code",
   "execution_count": 24,
   "id": "e0fbedce-04b3-412e-8298-4e9a72417770",
   "metadata": {},
   "outputs": [
    {
     "data": {
      "text/plain": [
       "0"
      ]
     },
     "execution_count": 24,
     "metadata": {},
     "output_type": "execute_result"
    }
   ],
   "source": [
    "conn = ag_connect('agraph-example', clear=True)\n",
    "conn.setNamespace('http://franz.com/')\n",
    "conn.size()"
   ]
  },
  {
   "cell_type": "markdown",
   "id": "1f8caf0c-bbb4-4142-9fe6-ce8e2b6d35c6",
   "metadata": {},
   "source": [
    "Then we add the file back in, and also we add a fourth element to all triples"
   ]
  },
  {
   "cell_type": "code",
   "execution_count": 25,
   "id": "0e83512d-2c45-43f5-8efd-216a1e6b3016",
   "metadata": {},
   "outputs": [
    {
     "data": {
      "text/plain": [
       "13"
      ]
     },
     "execution_count": 25,
     "metadata": {},
     "output_type": "execute_result"
    }
   ],
   "source": [
    "conn.addFile('tolkien-statements.nq', context=f.Tolkien)\n",
    "conn.size()"
   ]
  },
  {
   "cell_type": "markdown",
   "id": "e8828d7d-52af-406a-a4c7-1b5f798d543a",
   "metadata": {},
   "source": [
    "Now we query for all data and show the `f:Tolkien` is the fourth element of every triple"
   ]
  },
  {
   "cell_type": "code",
   "execution_count": 26,
   "id": "b0f0962b-ee45-46ce-bb6b-ee3908a2b65c",
   "metadata": {},
   "outputs": [
    {
     "data": {
      "text/html": [
       "<div>\n",
       "<style scoped>\n",
       "    .dataframe tbody tr th:only-of-type {\n",
       "        vertical-align: middle;\n",
       "    }\n",
       "\n",
       "    .dataframe tbody tr th {\n",
       "        vertical-align: top;\n",
       "    }\n",
       "\n",
       "    .dataframe thead th {\n",
       "        text-align: right;\n",
       "    }\n",
       "</style>\n",
       "<table border=\"1\" class=\"dataframe\">\n",
       "  <thead>\n",
       "    <tr style=\"text-align: right;\">\n",
       "      <th></th>\n",
       "      <th>s</th>\n",
       "      <th>p</th>\n",
       "      <th>o</th>\n",
       "      <th>g</th>\n",
       "    </tr>\n",
       "  </thead>\n",
       "  <tbody>\n",
       "    <tr>\n",
       "      <th>0</th>\n",
       "      <td>&lt;http://franz.com/being1&gt;</td>\n",
       "      <td>&lt;http://franz.com/friendOf&gt;</td>\n",
       "      <td>&lt;http://franz.com/being2&gt;</td>\n",
       "      <td>&lt;http://franz.com/Tolkien&gt;</td>\n",
       "    </tr>\n",
       "    <tr>\n",
       "      <th>1</th>\n",
       "      <td>&lt;http://franz.com/being1&gt;</td>\n",
       "      <td>&lt;http://franz.com/name&gt;</td>\n",
       "      <td>Frodo</td>\n",
       "      <td>&lt;http://franz.com/Tolkien&gt;</td>\n",
       "    </tr>\n",
       "    <tr>\n",
       "      <th>2</th>\n",
       "      <td>&lt;http://franz.com/being2&gt;</td>\n",
       "      <td>&lt;http://franz.com/name&gt;</td>\n",
       "      <td>Gandalf</td>\n",
       "      <td>&lt;http://franz.com/Tolkien&gt;</td>\n",
       "    </tr>\n",
       "    <tr>\n",
       "      <th>3</th>\n",
       "      <td>&lt;http://franz.com/being1&gt;</td>\n",
       "      <td>&lt;http://www.w3.org/1999/02/22-rdf-syntax-ns#type&gt;</td>\n",
       "      <td>&lt;http://franz.com/Hobbit&gt;</td>\n",
       "      <td>&lt;http://franz.com/Tolkien&gt;</td>\n",
       "    </tr>\n",
       "    <tr>\n",
       "      <th>4</th>\n",
       "      <td>&lt;http://franz.com/being2&gt;</td>\n",
       "      <td>&lt;http://www.w3.org/1999/02/22-rdf-syntax-ns#type&gt;</td>\n",
       "      <td>&lt;http://franz.com/Wizard&gt;</td>\n",
       "      <td>&lt;http://franz.com/Tolkien&gt;</td>\n",
       "    </tr>\n",
       "    <tr>\n",
       "      <th>5</th>\n",
       "      <td>&lt;http://franz.com/being1&gt;</td>\n",
       "      <td>&lt;http://www.w3.org/2000/01/rdf-schema#label&gt;</td>\n",
       "      <td>Frodo</td>\n",
       "      <td>&lt;http://franz.com/Tolkien&gt;</td>\n",
       "    </tr>\n",
       "    <tr>\n",
       "      <th>6</th>\n",
       "      <td>&lt;http://franz.com/being2&gt;</td>\n",
       "      <td>&lt;http://www.w3.org/2000/01/rdf-schema#label&gt;</td>\n",
       "      <td>Gandalf</td>\n",
       "      <td>&lt;http://franz.com/Tolkien&gt;</td>\n",
       "    </tr>\n",
       "    <tr>\n",
       "      <th>7</th>\n",
       "      <td>&lt;http://franz.com/being1&gt;</td>\n",
       "      <td>&lt;http://franz.com/age&gt;</td>\n",
       "      <td>50</td>\n",
       "      <td>&lt;http://franz.com/Tolkien&gt;</td>\n",
       "    </tr>\n",
       "    <tr>\n",
       "      <th>8</th>\n",
       "      <td>&lt;http://franz.com/being1&gt;</td>\n",
       "      <td>&lt;http://franz.com/weight&gt;</td>\n",
       "      <td>100.5</td>\n",
       "      <td>&lt;http://franz.com/Tolkien&gt;</td>\n",
       "    </tr>\n",
       "    <tr>\n",
       "      <th>9</th>\n",
       "      <td>&lt;http://franz.com/being1&gt;</td>\n",
       "      <td>&lt;http://franz.com/dob&gt;</td>\n",
       "      <td>1994-10-11</td>\n",
       "      <td>&lt;http://franz.com/Tolkien&gt;</td>\n",
       "    </tr>\n",
       "    <tr>\n",
       "      <th>10</th>\n",
       "      <td>&lt;http://franz.com/being2&gt;</td>\n",
       "      <td>&lt;http://franz.com/age&gt;</td>\n",
       "      <td>2000</td>\n",
       "      <td>&lt;http://franz.com/Tolkien&gt;</td>\n",
       "    </tr>\n",
       "    <tr>\n",
       "      <th>11</th>\n",
       "      <td>&lt;http://franz.com/being2&gt;</td>\n",
       "      <td>&lt;http://franz.com/hasRing&gt;</td>\n",
       "      <td>&lt;http://franz.com/ring1&gt;</td>\n",
       "      <td>&lt;http://franz.com/Tolkien&gt;</td>\n",
       "    </tr>\n",
       "    <tr>\n",
       "      <th>12</th>\n",
       "      <td>&lt;http://franz.com/ring1&gt;</td>\n",
       "      <td>&lt;http://franz.com/ringName&gt;</td>\n",
       "      <td>Narya</td>\n",
       "      <td>&lt;http://franz.com/Tolkien&gt;</td>\n",
       "    </tr>\n",
       "  </tbody>\n",
       "</table>\n",
       "</div>"
      ],
      "text/plain": [
       "                            s  \\\n",
       "0   <http://franz.com/being1>   \n",
       "1   <http://franz.com/being1>   \n",
       "2   <http://franz.com/being2>   \n",
       "3   <http://franz.com/being1>   \n",
       "4   <http://franz.com/being2>   \n",
       "5   <http://franz.com/being1>   \n",
       "6   <http://franz.com/being2>   \n",
       "7   <http://franz.com/being1>   \n",
       "8   <http://franz.com/being1>   \n",
       "9   <http://franz.com/being1>   \n",
       "10  <http://franz.com/being2>   \n",
       "11  <http://franz.com/being2>   \n",
       "12   <http://franz.com/ring1>   \n",
       "\n",
       "                                                    p  \\\n",
       "0                         <http://franz.com/friendOf>   \n",
       "1                             <http://franz.com/name>   \n",
       "2                             <http://franz.com/name>   \n",
       "3   <http://www.w3.org/1999/02/22-rdf-syntax-ns#type>   \n",
       "4   <http://www.w3.org/1999/02/22-rdf-syntax-ns#type>   \n",
       "5        <http://www.w3.org/2000/01/rdf-schema#label>   \n",
       "6        <http://www.w3.org/2000/01/rdf-schema#label>   \n",
       "7                              <http://franz.com/age>   \n",
       "8                           <http://franz.com/weight>   \n",
       "9                              <http://franz.com/dob>   \n",
       "10                             <http://franz.com/age>   \n",
       "11                         <http://franz.com/hasRing>   \n",
       "12                        <http://franz.com/ringName>   \n",
       "\n",
       "                            o                           g  \n",
       "0   <http://franz.com/being2>  <http://franz.com/Tolkien>  \n",
       "1                       Frodo  <http://franz.com/Tolkien>  \n",
       "2                     Gandalf  <http://franz.com/Tolkien>  \n",
       "3   <http://franz.com/Hobbit>  <http://franz.com/Tolkien>  \n",
       "4   <http://franz.com/Wizard>  <http://franz.com/Tolkien>  \n",
       "5                       Frodo  <http://franz.com/Tolkien>  \n",
       "6                     Gandalf  <http://franz.com/Tolkien>  \n",
       "7                          50  <http://franz.com/Tolkien>  \n",
       "8                       100.5  <http://franz.com/Tolkien>  \n",
       "9                  1994-10-11  <http://franz.com/Tolkien>  \n",
       "10                       2000  <http://franz.com/Tolkien>  \n",
       "11   <http://franz.com/ring1>  <http://franz.com/Tolkien>  \n",
       "12                      Narya  <http://franz.com/Tolkien>  "
      ]
     },
     "execution_count": 26,
     "metadata": {},
     "output_type": "execute_result"
    }
   ],
   "source": [
    "query_string = \"select ?s ?p ?o ?g where { graph ?g { ?s ?p ?o . } }\"\n",
    "df = conn.executeTupleQuery(query_string).toPandas()\n",
    "df"
   ]
  },
  {
   "cell_type": "markdown",
   "id": "6e80764e-f9f3-43ac-9879-09cbb133d480",
   "metadata": {},
   "source": [
    "It is also possible to export the result of a SPARQL query to various file types, and not worry about having to export the entire database"
   ]
  },
  {
   "cell_type": "code",
   "execution_count": 27,
   "id": "930402fa-b15d-48b8-bbba-c997fd6215e4",
   "metadata": {},
   "outputs": [],
   "source": [
    "query_string = \"select ?being ?age where { ?being f:age ?age . }\"\n",
    "conn.prepareTupleQuery(QueryLanguage.SPARQL, query_string).evaluate(output='age-query.csv')"
   ]
  },
  {
   "cell_type": "markdown",
   "id": "e663fd3b-9bd5-48ee-988a-7006a9012832",
   "metadata": {},
   "source": [
    "For more info about using python with AllegroGraph please check out the [documentation](https://franz.com/agraph/support/documentation/current/python/api.html)"
   ]
  }
 ],
 "metadata": {
  "kernelspec": {
   "display_name": "Python [conda env:old-ag-notebook]",
   "language": "python",
   "name": "conda-env-old-ag-notebook-py"
  },
  "language_info": {
   "codemirror_mode": {
    "name": "ipython",
    "version": 3
   },
   "file_extension": ".py",
   "mimetype": "text/x-python",
   "name": "python",
   "nbconvert_exporter": "python",
   "pygments_lexer": "ipython3",
   "version": "3.10.12"
  }
 },
 "nbformat": 4,
 "nbformat_minor": 5
}
