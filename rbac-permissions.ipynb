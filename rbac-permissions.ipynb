{
 "cells": [
  {
   "cell_type": "markdown",
   "id": "105e8ad4-a299-4502-95bf-cfc7fa32bbd5",
   "metadata": {},
   "source": [
    "# AllegroGraph Security using the Python API"
   ]
  },
  {
   "cell_type": "markdown",
   "id": "d837ec61-7b61-499e-bd2b-1e54dc127aba",
   "metadata": {},
   "source": [
    "It is possible to install the required packaged with either of the following commands (depending on your package manager)"
   ]
  },
  {
   "cell_type": "code",
   "execution_count": null,
   "id": "a639fe8c-1cba-4de1-aa07-34486017b87d",
   "metadata": {},
   "outputs": [],
   "source": [
    "!pip install agraph-python"
   ]
  },
  {
   "cell_type": "markdown",
   "id": "403130f1-9deb-420b-b16f-f2f5133c5ded",
   "metadata": {},
   "source": [
    "We will only set the environment variables for `AGRAPH_PASSWORD`, `AGRAPH_HOST` and `AGRAPH_PORT`. You will not need to change the port, but please copy the host from your server. We have left a (nonworking) example in place"
   ]
  },
  {
   "cell_type": "code",
   "execution_count": 1,
   "id": "f61f52cc-3cd6-4643-9bcc-351b4925c0d3",
   "metadata": {},
   "outputs": [],
   "source": [
    "import os\n",
    "os.environ['AGRAPH_PASSWORD'] = 'GrMEKDvQFaN2bkrHJeiCbv'\n",
    "os.environ['AGRAPH_HOST'] = 'https://ag197y8xsj2epl2e.allegrograph.cloud'\n",
    "os.environ['AGRAPH_PORT'] = '443'"
   ]
  },
  {
   "cell_type": "markdown",
   "id": "12779efb-6334-4742-8cd3-c5c17414b7a7",
   "metadata": {},
   "source": [
    "Here we import the required packages and define a function that executed a query and returns a pandas dataframe"
   ]
  },
  {
   "cell_type": "code",
   "execution_count": 2,
   "id": "ea4259dd-79ad-4a17-b94d-f032a17f0a98",
   "metadata": {},
   "outputs": [],
   "source": [
    "from franz.openrdf.sail.allegrographserver import AllegroGraphServer as ag_server\n",
    "from franz.openrdf.connect import ag_connect\n",
    "from franz.openrdf.query.query import QueryLanguage\n",
    "from franz.openrdf.vocabulary import RDF, RDFS\n",
    "from pprint import pprint\n",
    "\n",
    "def rsp(conn, query_string):\n",
    "    with conn.executeTupleQuery(query_string) as result:\n",
    "        df = result.toPandas()\n",
    "    df = df.reindex(columns=['s','p','o'])\n",
    "    return df.head(25)"
   ]
  },
  {
   "cell_type": "markdown",
   "id": "2faa52c1-8a4f-4c06-9874-391ffc19f3b3",
   "metadata": {},
   "source": [
    "# Strategy 1: RBAC on the Repository Level\n",
    "We start with the most basic security method, limiting access per user or role per AllegroGraph repository. Note that as the `admin` user you have **superuser** privileges.\n",
    "\n",
    "First we create some new repositories and populate with some data. For later examples take note that we add a fourth element to each triple as well"
   ]
  },
  {
   "cell_type": "code",
   "execution_count": 3,
   "id": "ac2d73be-b4bc-4d95-b40d-f94ab22f1074",
   "metadata": {},
   "outputs": [
    {
     "name": "stdout",
     "output_type": "stream",
     "text": [
      "3\n"
     ]
    }
   ],
   "source": [
    "conn = ag_connect('study1', create=True, clear=True, user='admin')\n",
    "\n",
    "#create a namespace\n",
    "f = conn.namespace('http://franz.com/')\n",
    "conn.setNamespace('f', 'http://franz.com/')\n",
    "\n",
    "triples_study_1 = [\n",
    "    (f.study1, RDF.TYPE, f.Study, f.study1),\n",
    "    (f.study1, RDFS.LABEL, \"Study 1\", f.study1),\n",
    "    (f.study1, f.hasTopic, \"Why the number 1 is the most beautiful number\", f.study1)]\n",
    "conn.addTriples(triples_study_1)\n",
    "print(conn.size())"
   ]
  },
  {
   "cell_type": "markdown",
   "id": "c65cddb7-b0af-4dc0-80b2-e4632c045d3f",
   "metadata": {},
   "source": [
    "Now will do the same for a new different repo"
   ]
  },
  {
   "cell_type": "code",
   "execution_count": 4,
   "id": "e5922fb9-3484-4ff2-ab1b-8aca89f83de2",
   "metadata": {},
   "outputs": [
    {
     "name": "stdout",
     "output_type": "stream",
     "text": [
      "3\n"
     ]
    }
   ],
   "source": [
    "conn = ag_connect('study2', create=True, clear=True, user='admin')\n",
    "\n",
    "#create a namespace\n",
    "f = conn.namespace('http://franz.com/')\n",
    "conn.setNamespace('f', 'http://franz.com/')\n",
    "\n",
    "triples_study_2 = [\n",
    "    (f.study2, RDF.TYPE, f.Study, f.study2),\n",
    "    (f.study2, RDFS.LABEL, \"Study 2\", f.study2),\n",
    "    (f.study2, f.hasTopic, \"Why 2 is better than 1\", f.study2)]\n",
    "conn.addTriples(triples_study_2)\n",
    "print(conn.size())"
   ]
  },
  {
   "cell_type": "markdown",
   "id": "78653b59-8bdf-4677-9761-8aff35315bb5",
   "metadata": {},
   "source": [
    "Create a server connection (different from `ag_connect` and establishing a connection to a specific repo)"
   ]
  },
  {
   "cell_type": "code",
   "execution_count": 5,
   "id": "5b736e3d-64f8-4e18-86df-3fae2de36eef",
   "metadata": {},
   "outputs": [],
   "source": [
    "server = ag_server(user='admin')"
   ]
  },
  {
   "cell_type": "markdown",
   "id": "c1a14afe-0865-4304-9f74-10f1a3f353b4",
   "metadata": {},
   "source": [
    "Look at existing users"
   ]
  },
  {
   "cell_type": "code",
   "execution_count": 6,
   "id": "0eef5583-e402-4195-ae7c-3900c6170330",
   "metadata": {},
   "outputs": [
    {
     "name": "stdout",
     "output_type": "stream",
     "text": [
      "admin\n",
      "superuser\n"
     ]
    }
   ],
   "source": [
    "for user in server.listUsers():\n",
    "    print(user)"
   ]
  },
  {
   "cell_type": "markdown",
   "id": "24fe18aa-a94e-432c-817f-c71d0d3d1df6",
   "metadata": {},
   "source": [
    "Now we create two new users"
   ]
  },
  {
   "cell_type": "code",
   "execution_count": 7,
   "id": "eaa2892b-ea42-4e9b-a0e0-0c6e9c302500",
   "metadata": {},
   "outputs": [
    {
     "name": "stdout",
     "output_type": "stream",
     "text": [
      "admin\n",
      "superuser\n",
      "user1\n",
      "user2\n"
     ]
    }
   ],
   "source": [
    "try:\n",
    "    server.addUser('user1', 'pw1')\n",
    "    server.addUser('user2', 'pw2')\n",
    "except:\n",
    "    pass\n",
    "    \n",
    "for user in server.listUsers():\n",
    "    print(user)"
   ]
  },
  {
   "cell_type": "markdown",
   "id": "d428f9ea-8aec-4449-8bda-d1ac30014928",
   "metadata": {},
   "source": [
    "We will allow *user1* to look at `study1` and allow *user2* to look at both `study1` and `study2`. Remember that we are currently the *superuser*"
   ]
  },
  {
   "cell_type": "code",
   "execution_count": 8,
   "id": "727f4aba-6a4b-4fc5-bae7-c37a4195cd61",
   "metadata": {},
   "outputs": [
    {
     "name": "stdout",
     "output_type": "stream",
     "text": [
      "(\"User1: [{'read': True, 'write': True, 'catalog': '/', 'repository': \"\n",
      " \"'study1', 'query-results-limit': False}]\")\n",
      "(\"User2: [{'read': True, 'write': True, 'catalog': '/', 'repository': \"\n",
      " \"'study1', 'query-results-limit': False}, {'read': True, 'write': True, \"\n",
      " \"'catalog': '/', 'repository': 'study2', 'query-results-limit': False}]\")\n"
     ]
    }
   ],
   "source": [
    "server.addUserAccess('user1', read=True, write=True, catalog='/', repository='study1')\n",
    "server.addUserAccess('user2', read=True, write=True, catalog='/', repository='study1')\n",
    "server.addUserAccess('user2', read=True, write=True, catalog='/', repository='study2')\n",
    "\n",
    "pprint(f\"User1: {server.listUserAccess('user1')}\")\n",
    "pprint(f\"User2: {server.listUserAccess('user2')}\")"
   ]
  },
  {
   "cell_type": "markdown",
   "id": "33977471-dc3c-45fb-9b1a-d2480a8c1531",
   "metadata": {},
   "source": [
    "Now we will try to have *user1* query both `study1` and `study2`"
   ]
  },
  {
   "cell_type": "code",
   "execution_count": 9,
   "id": "51531010-7a7e-413d-8645-7e2233c04992",
   "metadata": {},
   "outputs": [
    {
     "data": {
      "text/html": [
       "<div>\n",
       "<style scoped>\n",
       "    .dataframe tbody tr th:only-of-type {\n",
       "        vertical-align: middle;\n",
       "    }\n",
       "\n",
       "    .dataframe tbody tr th {\n",
       "        vertical-align: top;\n",
       "    }\n",
       "\n",
       "    .dataframe thead th {\n",
       "        text-align: right;\n",
       "    }\n",
       "</style>\n",
       "<table border=\"1\" class=\"dataframe\">\n",
       "  <thead>\n",
       "    <tr style=\"text-align: right;\">\n",
       "      <th></th>\n",
       "      <th>s</th>\n",
       "      <th>p</th>\n",
       "      <th>o</th>\n",
       "    </tr>\n",
       "  </thead>\n",
       "  <tbody>\n",
       "    <tr>\n",
       "      <th>0</th>\n",
       "      <td>&lt;http://franz.com/study1&gt;</td>\n",
       "      <td>&lt;http://www.w3.org/1999/02/22-rdf-syntax-ns#type&gt;</td>\n",
       "      <td>&lt;http://franz.com/Study&gt;</td>\n",
       "    </tr>\n",
       "    <tr>\n",
       "      <th>1</th>\n",
       "      <td>&lt;http://franz.com/study1&gt;</td>\n",
       "      <td>&lt;http://www.w3.org/2000/01/rdf-schema#label&gt;</td>\n",
       "      <td>Study 1</td>\n",
       "    </tr>\n",
       "    <tr>\n",
       "      <th>2</th>\n",
       "      <td>&lt;http://franz.com/study1&gt;</td>\n",
       "      <td>&lt;http://franz.com/hasTopic&gt;</td>\n",
       "      <td>Why the number 1 is the most beautiful number</td>\n",
       "    </tr>\n",
       "  </tbody>\n",
       "</table>\n",
       "</div>"
      ],
      "text/plain": [
       "                           s  \\\n",
       "0  <http://franz.com/study1>   \n",
       "1  <http://franz.com/study1>   \n",
       "2  <http://franz.com/study1>   \n",
       "\n",
       "                                                   p  \\\n",
       "0  <http://www.w3.org/1999/02/22-rdf-syntax-ns#type>   \n",
       "1       <http://www.w3.org/2000/01/rdf-schema#label>   \n",
       "2                        <http://franz.com/hasTopic>   \n",
       "\n",
       "                                               o  \n",
       "0                       <http://franz.com/Study>  \n",
       "1                                        Study 1  \n",
       "2  Why the number 1 is the most beautiful number  "
      ]
     },
     "execution_count": 9,
     "metadata": {},
     "output_type": "execute_result"
    }
   ],
   "source": [
    "conn1 = ag_connect('study1', user='user1', password='pw1')\n",
    "\n",
    "rsp(conn1, \"select ?s ?p ?o where { ?s ?p ?o }\")"
   ]
  },
  {
   "cell_type": "code",
   "execution_count": 10,
   "id": "d3ab5d04-a673-49f3-86a6-2191a8d0c8e9",
   "metadata": {},
   "outputs": [
    {
     "name": "stdout",
     "output_type": "stream",
     "text": [
      "401 User 'user1' does not have sufficient permissions to perform this operation.\n"
     ]
    }
   ],
   "source": [
    "try:\n",
    "    conn2 = ag_connect('study2', user='user1', password='pw1')\n",
    "\n",
    "    rsp(conn2, \"select ?s ?p ?o where { ?s ?p ?o }\")\n",
    "except:\n",
    "    pass"
   ]
  },
  {
   "cell_type": "markdown",
   "id": "08b4a87f-e460-4024-82f2-481fea1e1db6",
   "metadata": {},
   "source": [
    "*User2* is able to query both `study1` and `study2`"
   ]
  },
  {
   "cell_type": "code",
   "execution_count": 11,
   "id": "d65c2ae0-5782-4785-8c6e-1ec270678272",
   "metadata": {},
   "outputs": [
    {
     "data": {
      "text/html": [
       "<div>\n",
       "<style scoped>\n",
       "    .dataframe tbody tr th:only-of-type {\n",
       "        vertical-align: middle;\n",
       "    }\n",
       "\n",
       "    .dataframe tbody tr th {\n",
       "        vertical-align: top;\n",
       "    }\n",
       "\n",
       "    .dataframe thead th {\n",
       "        text-align: right;\n",
       "    }\n",
       "</style>\n",
       "<table border=\"1\" class=\"dataframe\">\n",
       "  <thead>\n",
       "    <tr style=\"text-align: right;\">\n",
       "      <th></th>\n",
       "      <th>s</th>\n",
       "      <th>p</th>\n",
       "      <th>o</th>\n",
       "    </tr>\n",
       "  </thead>\n",
       "  <tbody>\n",
       "    <tr>\n",
       "      <th>0</th>\n",
       "      <td>&lt;http://franz.com/study1&gt;</td>\n",
       "      <td>&lt;http://www.w3.org/1999/02/22-rdf-syntax-ns#type&gt;</td>\n",
       "      <td>&lt;http://franz.com/Study&gt;</td>\n",
       "    </tr>\n",
       "    <tr>\n",
       "      <th>1</th>\n",
       "      <td>&lt;http://franz.com/study1&gt;</td>\n",
       "      <td>&lt;http://www.w3.org/2000/01/rdf-schema#label&gt;</td>\n",
       "      <td>Study 1</td>\n",
       "    </tr>\n",
       "    <tr>\n",
       "      <th>2</th>\n",
       "      <td>&lt;http://franz.com/study1&gt;</td>\n",
       "      <td>&lt;http://franz.com/hasTopic&gt;</td>\n",
       "      <td>Why the number 1 is the most beautiful number</td>\n",
       "    </tr>\n",
       "  </tbody>\n",
       "</table>\n",
       "</div>"
      ],
      "text/plain": [
       "                           s  \\\n",
       "0  <http://franz.com/study1>   \n",
       "1  <http://franz.com/study1>   \n",
       "2  <http://franz.com/study1>   \n",
       "\n",
       "                                                   p  \\\n",
       "0  <http://www.w3.org/1999/02/22-rdf-syntax-ns#type>   \n",
       "1       <http://www.w3.org/2000/01/rdf-schema#label>   \n",
       "2                        <http://franz.com/hasTopic>   \n",
       "\n",
       "                                               o  \n",
       "0                       <http://franz.com/Study>  \n",
       "1                                        Study 1  \n",
       "2  Why the number 1 is the most beautiful number  "
      ]
     },
     "execution_count": 11,
     "metadata": {},
     "output_type": "execute_result"
    }
   ],
   "source": [
    "conn1 = ag_connect('study1', user='user2', password='pw2')\n",
    "\n",
    "rsp(conn1, \"select ?s ?p ?o where { ?s ?p ?o }\")"
   ]
  },
  {
   "cell_type": "markdown",
   "id": "962b5830-502d-4cef-b362-d379a72cd181",
   "metadata": {},
   "source": [
    "We revoke access for all users (For the `server` connection we are still connected as *superuser*)"
   ]
  },
  {
   "cell_type": "code",
   "execution_count": 12,
   "id": "374e7bb7-aa13-4446-b189-f16602ff9bd9",
   "metadata": {},
   "outputs": [
    {
     "name": "stdout",
     "output_type": "stream",
     "text": [
      "'User1: []'\n",
      "'User2: []'\n"
     ]
    }
   ],
   "source": [
    "server.deleteUserAccess('user1', read=True, write=True, catalog='/', repository='study1') \n",
    "server.deleteUserAccess('user2', read=True, write=True, catalog='/', repository='study1')\n",
    "server.deleteUserAccess('user2', read=True, write=True, catalog='/', repository='study2')\n",
    "\n",
    "pprint(f\"User1: {server.listUserAccess('user1')}\")\n",
    "pprint(f\"User2: {server.listUserAccess('user2')}\")"
   ]
  },
  {
   "cell_type": "markdown",
   "id": "66109b84-9f86-44b0-846a-808704557bef",
   "metadata": {},
   "source": [
    "Now we will create some roles and list them"
   ]
  },
  {
   "cell_type": "code",
   "execution_count": 13,
   "id": "171f6b44-c440-4995-923e-65d64b834ba1",
   "metadata": {},
   "outputs": [
    {
     "name": "stdout",
     "output_type": "stream",
     "text": [
      "role1\n",
      "role2\n"
     ]
    }
   ],
   "source": [
    "try:\n",
    "    role1 = server.addRole('role1')\n",
    "    role2 = server.addRole('role2')\n",
    "except:\n",
    "    print('User already exists')\n",
    "\n",
    "for role in server.listRoles():\n",
    "    print(role)"
   ]
  },
  {
   "cell_type": "markdown",
   "id": "8830dff3-28a6-499c-b012-9b95dfef72c0",
   "metadata": {},
   "source": [
    "Connect the roles to different repositories"
   ]
  },
  {
   "cell_type": "code",
   "execution_count": 14,
   "id": "3124667c-121a-4060-933d-d4b2862e1bf0",
   "metadata": {},
   "outputs": [
    {
     "name": "stdout",
     "output_type": "stream",
     "text": [
      "Role1: [{'read': True, 'write': True, 'catalog': '/', 'repository': 'study1', 'query-results-limit': False}]\n",
      "Role2: [{'read': True, 'write': True, 'catalog': '/', 'repository': 'study2', 'query-results-limit': False}]\n"
     ]
    }
   ],
   "source": [
    "server.addRoleAccess('role1', read=True, write=True, catalog='/', repository='study1')\n",
    "server.addRoleAccess('role2', read=True, write=True, catalog='/', repository='study2')\n",
    "\n",
    "print(f\"Role1: {server.listRoleAccess('role1')}\")\n",
    "print(f\"Role2: {server.listRoleAccess('role2')}\")"
   ]
  },
  {
   "cell_type": "markdown",
   "id": "d0e91762-d7cf-4da2-a0a6-d83fb1faa712",
   "metadata": {},
   "source": [
    "Now we try to query `study1` as *user1* and show it fails"
   ]
  },
  {
   "cell_type": "code",
   "execution_count": 15,
   "id": "6ea46354-76ce-4fbb-8032-968460b055d7",
   "metadata": {},
   "outputs": [],
   "source": [
    "try:\n",
    "    conn2 = ag_connect('study1', user='user1', password='pw1')\n",
    "\n",
    "    rsp(conn2, \"select ?s ?p ?o where { ?s ?p ?o }\")\n",
    "except:\n",
    "    pass"
   ]
  },
  {
   "cell_type": "markdown",
   "id": "16d7c530-beab-484f-b783-198ea9ac73b8",
   "metadata": {},
   "source": [
    "Let's add *user1* to role1 and show that the query now works"
   ]
  },
  {
   "cell_type": "code",
   "execution_count": 16,
   "id": "e134c436-5047-4dfe-8a2c-7131199ec66c",
   "metadata": {},
   "outputs": [
    {
     "data": {
      "text/html": [
       "<div>\n",
       "<style scoped>\n",
       "    .dataframe tbody tr th:only-of-type {\n",
       "        vertical-align: middle;\n",
       "    }\n",
       "\n",
       "    .dataframe tbody tr th {\n",
       "        vertical-align: top;\n",
       "    }\n",
       "\n",
       "    .dataframe thead th {\n",
       "        text-align: right;\n",
       "    }\n",
       "</style>\n",
       "<table border=\"1\" class=\"dataframe\">\n",
       "  <thead>\n",
       "    <tr style=\"text-align: right;\">\n",
       "      <th></th>\n",
       "      <th>s</th>\n",
       "      <th>p</th>\n",
       "      <th>o</th>\n",
       "    </tr>\n",
       "  </thead>\n",
       "  <tbody>\n",
       "    <tr>\n",
       "      <th>0</th>\n",
       "      <td>&lt;http://franz.com/study1&gt;</td>\n",
       "      <td>&lt;http://www.w3.org/1999/02/22-rdf-syntax-ns#type&gt;</td>\n",
       "      <td>&lt;http://franz.com/Study&gt;</td>\n",
       "    </tr>\n",
       "    <tr>\n",
       "      <th>1</th>\n",
       "      <td>&lt;http://franz.com/study1&gt;</td>\n",
       "      <td>&lt;http://www.w3.org/2000/01/rdf-schema#label&gt;</td>\n",
       "      <td>Study 1</td>\n",
       "    </tr>\n",
       "    <tr>\n",
       "      <th>2</th>\n",
       "      <td>&lt;http://franz.com/study1&gt;</td>\n",
       "      <td>&lt;http://franz.com/hasTopic&gt;</td>\n",
       "      <td>Why the number 1 is the most beautiful number</td>\n",
       "    </tr>\n",
       "  </tbody>\n",
       "</table>\n",
       "</div>"
      ],
      "text/plain": [
       "                           s  \\\n",
       "0  <http://franz.com/study1>   \n",
       "1  <http://franz.com/study1>   \n",
       "2  <http://franz.com/study1>   \n",
       "\n",
       "                                                   p  \\\n",
       "0  <http://www.w3.org/1999/02/22-rdf-syntax-ns#type>   \n",
       "1       <http://www.w3.org/2000/01/rdf-schema#label>   \n",
       "2                        <http://franz.com/hasTopic>   \n",
       "\n",
       "                                               o  \n",
       "0                       <http://franz.com/Study>  \n",
       "1                                        Study 1  \n",
       "2  Why the number 1 is the most beautiful number  "
      ]
     },
     "execution_count": 16,
     "metadata": {},
     "output_type": "execute_result"
    }
   ],
   "source": [
    "server.addUserRole('user1', 'role1')\n",
    "\n",
    "conn2 = ag_connect('study1', user='user1', password='pw1')\n",
    "rsp(conn2, \"select ?s ?p ?o where { ?s ?p ?o }\")"
   ]
  },
  {
   "cell_type": "markdown",
   "id": "80db4806-ea47-4934-99c5-a8c47211fef9",
   "metadata": {},
   "source": [
    "Finish off the first example by first revoking access for the roles, and then deleting them"
   ]
  },
  {
   "cell_type": "code",
   "execution_count": 17,
   "id": "597a6817-d4ac-47e8-99a5-9069bd5ebdac",
   "metadata": {},
   "outputs": [
    {
     "name": "stdout",
     "output_type": "stream",
     "text": [
      "Role1: []\n",
      "Role2: []\n"
     ]
    }
   ],
   "source": [
    "try:\n",
    "    server.deleteRoleAccess('role1', read=True, write=True, catalog='/', repository='study1')\n",
    "    server.deleteRoleAccess('role2', read=True, write=True, catalog='/', repository='study2')\n",
    "except:\n",
    "    pass\n",
    "\n",
    "print(f\"Role1: {server.listRoleAccess('role1')}\")\n",
    "print(f\"Role2: {server.listRoleAccess('role2')}\")\n",
    "\n",
    "try:\n",
    "    server.deleteRole('role1')\n",
    "    server.deleteRole('role2')\n",
    "except:\n",
    "    pass\n",
    "\n",
    "for role in server.listRoles():\n",
    "    print(role)"
   ]
  },
  {
   "cell_type": "markdown",
   "id": "db33ea60-d838-4389-9b6f-52729fba7343",
   "metadata": {},
   "source": [
    "# Strategy 2: RBAC on the Level of Graphs (or any Part of the Triple)\n",
    "\n",
    "First we create a single repository that combines both sets of triples used in the previous examples. Notice that triples about `study1` has graph `<http://franz.com/Study1>` and triples about `study2` has graph `<http://franz.com/Study2>`"
   ]
  },
  {
   "cell_type": "code",
   "execution_count": 18,
   "id": "8a63d0da-f24c-4a1b-a53f-4c817100f550",
   "metadata": {},
   "outputs": [
    {
     "name": "stdout",
     "output_type": "stream",
     "text": [
      "6\n"
     ]
    }
   ],
   "source": [
    "conn = ag_connect('studies', create=True, clear=True, user='admin')\n",
    "\n",
    "#create a namespace\n",
    "f = conn.namespace('http://franz.com/')\n",
    "\n",
    "conn.addTriples(triples_study_1)\n",
    "conn.addTriples(triples_study_2)\n",
    "print(conn.size())"
   ]
  },
  {
   "cell_type": "markdown",
   "id": "86c3ee67-936c-4a18-8160-356f09158e89",
   "metadata": {},
   "source": [
    "Create a new user, role, with permissions on reading and writing on new `studies` repo"
   ]
  },
  {
   "cell_type": "code",
   "execution_count": 19,
   "id": "4b72e5a7-a44e-4a9b-b287-279328bd2eef",
   "metadata": {},
   "outputs": [
    {
     "data": {
      "text/html": [
       "<div>\n",
       "<style scoped>\n",
       "    .dataframe tbody tr th:only-of-type {\n",
       "        vertical-align: middle;\n",
       "    }\n",
       "\n",
       "    .dataframe tbody tr th {\n",
       "        vertical-align: top;\n",
       "    }\n",
       "\n",
       "    .dataframe thead th {\n",
       "        text-align: right;\n",
       "    }\n",
       "</style>\n",
       "<table border=\"1\" class=\"dataframe\">\n",
       "  <thead>\n",
       "    <tr style=\"text-align: right;\">\n",
       "      <th></th>\n",
       "      <th>s</th>\n",
       "      <th>p</th>\n",
       "      <th>o</th>\n",
       "    </tr>\n",
       "  </thead>\n",
       "  <tbody>\n",
       "    <tr>\n",
       "      <th>0</th>\n",
       "      <td>&lt;http://franz.com/study1&gt;</td>\n",
       "      <td>&lt;http://www.w3.org/1999/02/22-rdf-syntax-ns#type&gt;</td>\n",
       "      <td>&lt;http://franz.com/Study&gt;</td>\n",
       "    </tr>\n",
       "    <tr>\n",
       "      <th>1</th>\n",
       "      <td>&lt;http://franz.com/study1&gt;</td>\n",
       "      <td>&lt;http://www.w3.org/2000/01/rdf-schema#label&gt;</td>\n",
       "      <td>Study 1</td>\n",
       "    </tr>\n",
       "    <tr>\n",
       "      <th>2</th>\n",
       "      <td>&lt;http://franz.com/study1&gt;</td>\n",
       "      <td>&lt;http://franz.com/hasTopic&gt;</td>\n",
       "      <td>Why the number 1 is the most beautiful number</td>\n",
       "    </tr>\n",
       "    <tr>\n",
       "      <th>3</th>\n",
       "      <td>&lt;http://franz.com/study2&gt;</td>\n",
       "      <td>&lt;http://www.w3.org/1999/02/22-rdf-syntax-ns#type&gt;</td>\n",
       "      <td>&lt;http://franz.com/Study&gt;</td>\n",
       "    </tr>\n",
       "    <tr>\n",
       "      <th>4</th>\n",
       "      <td>&lt;http://franz.com/study2&gt;</td>\n",
       "      <td>&lt;http://www.w3.org/2000/01/rdf-schema#label&gt;</td>\n",
       "      <td>Study 2</td>\n",
       "    </tr>\n",
       "    <tr>\n",
       "      <th>5</th>\n",
       "      <td>&lt;http://franz.com/study2&gt;</td>\n",
       "      <td>&lt;http://franz.com/hasTopic&gt;</td>\n",
       "      <td>Why 2 is better than 1</td>\n",
       "    </tr>\n",
       "  </tbody>\n",
       "</table>\n",
       "</div>"
      ],
      "text/plain": [
       "                           s  \\\n",
       "0  <http://franz.com/study1>   \n",
       "1  <http://franz.com/study1>   \n",
       "2  <http://franz.com/study1>   \n",
       "3  <http://franz.com/study2>   \n",
       "4  <http://franz.com/study2>   \n",
       "5  <http://franz.com/study2>   \n",
       "\n",
       "                                                   p  \\\n",
       "0  <http://www.w3.org/1999/02/22-rdf-syntax-ns#type>   \n",
       "1       <http://www.w3.org/2000/01/rdf-schema#label>   \n",
       "2                        <http://franz.com/hasTopic>   \n",
       "3  <http://www.w3.org/1999/02/22-rdf-syntax-ns#type>   \n",
       "4       <http://www.w3.org/2000/01/rdf-schema#label>   \n",
       "5                        <http://franz.com/hasTopic>   \n",
       "\n",
       "                                               o  \n",
       "0                       <http://franz.com/Study>  \n",
       "1                                        Study 1  \n",
       "2  Why the number 1 is the most beautiful number  \n",
       "3                       <http://franz.com/Study>  \n",
       "4                                        Study 2  \n",
       "5                         Why 2 is better than 1  "
      ]
     },
     "execution_count": 19,
     "metadata": {},
     "output_type": "execute_result"
    }
   ],
   "source": [
    "try: server.addUser('user3', 'pw3')\n",
    "except: pass\n",
    "server.addRole('role3')\n",
    "server.addUserRole('user3', 'role3')\n",
    "server.addRoleAccess('role3', read=True, write=True, catalog='/', repository='studies')\n",
    "\n",
    "conn = ag_connect('studies', user='user3', password='pw3')\n",
    "rsp(conn, \"select ?s ?p ?o where { ?s ?p ?o }\")"
   ]
  },
  {
   "cell_type": "markdown",
   "id": "717cfcc8-8a57-48e3-aa23-adeca2f424ee",
   "metadata": {},
   "source": [
    "Add a Role Security Filter so that *role3* can only see triples with graph `<http://franz.com/Study1>`"
   ]
  },
  {
   "cell_type": "code",
   "execution_count": 20,
   "id": "7fab3c1b-03cd-4f47-9868-201e4b4b1c45",
   "metadata": {},
   "outputs": [],
   "source": [
    "server.addRoleSecurityFilter('role3', 'allow', s=None, p=None, o=None, g=f.study1)"
   ]
  },
  {
   "cell_type": "code",
   "execution_count": 21,
   "id": "38f8cd0a-0ec5-4198-9051-929bb0d6e3a8",
   "metadata": {},
   "outputs": [
    {
     "data": {
      "text/html": [
       "<div>\n",
       "<style scoped>\n",
       "    .dataframe tbody tr th:only-of-type {\n",
       "        vertical-align: middle;\n",
       "    }\n",
       "\n",
       "    .dataframe tbody tr th {\n",
       "        vertical-align: top;\n",
       "    }\n",
       "\n",
       "    .dataframe thead th {\n",
       "        text-align: right;\n",
       "    }\n",
       "</style>\n",
       "<table border=\"1\" class=\"dataframe\">\n",
       "  <thead>\n",
       "    <tr style=\"text-align: right;\">\n",
       "      <th></th>\n",
       "      <th>s</th>\n",
       "      <th>p</th>\n",
       "      <th>o</th>\n",
       "    </tr>\n",
       "  </thead>\n",
       "  <tbody>\n",
       "    <tr>\n",
       "      <th>0</th>\n",
       "      <td>&lt;http://franz.com/study1&gt;</td>\n",
       "      <td>&lt;http://www.w3.org/1999/02/22-rdf-syntax-ns#type&gt;</td>\n",
       "      <td>&lt;http://franz.com/Study&gt;</td>\n",
       "    </tr>\n",
       "    <tr>\n",
       "      <th>1</th>\n",
       "      <td>&lt;http://franz.com/study1&gt;</td>\n",
       "      <td>&lt;http://www.w3.org/2000/01/rdf-schema#label&gt;</td>\n",
       "      <td>Study 1</td>\n",
       "    </tr>\n",
       "    <tr>\n",
       "      <th>2</th>\n",
       "      <td>&lt;http://franz.com/study1&gt;</td>\n",
       "      <td>&lt;http://franz.com/hasTopic&gt;</td>\n",
       "      <td>Why the number 1 is the most beautiful number</td>\n",
       "    </tr>\n",
       "  </tbody>\n",
       "</table>\n",
       "</div>"
      ],
      "text/plain": [
       "                           s  \\\n",
       "0  <http://franz.com/study1>   \n",
       "1  <http://franz.com/study1>   \n",
       "2  <http://franz.com/study1>   \n",
       "\n",
       "                                                   p  \\\n",
       "0  <http://www.w3.org/1999/02/22-rdf-syntax-ns#type>   \n",
       "1       <http://www.w3.org/2000/01/rdf-schema#label>   \n",
       "2                        <http://franz.com/hasTopic>   \n",
       "\n",
       "                                               o  \n",
       "0                       <http://franz.com/Study>  \n",
       "1                                        Study 1  \n",
       "2  Why the number 1 is the most beautiful number  "
      ]
     },
     "execution_count": 21,
     "metadata": {},
     "output_type": "execute_result"
    }
   ],
   "source": [
    "rsp(conn, \"select ?s ?p ?o where { ?s ?p ?o }\")"
   ]
  }
 ],
 "metadata": {
  "kernelspec": {
   "display_name": "Python [conda env:synthea]",
   "language": "python",
   "name": "conda-env-synthea-py"
  },
  "language_info": {
   "codemirror_mode": {
    "name": "ipython",
    "version": 3
   },
   "file_extension": ".py",
   "mimetype": "text/x-python",
   "name": "python",
   "nbconvert_exporter": "python",
   "pygments_lexer": "ipython3",
   "version": "3.10.6"
  }
 },
 "nbformat": 4,
 "nbformat_minor": 5
}
