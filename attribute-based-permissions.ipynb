{
 "cells": [
  {
   "cell_type": "markdown",
   "id": "815eae89-b1b3-4403-899d-9fa55758ff7a",
   "metadata": {},
   "source": [
    "# Triple Attribute Based Permissions"
   ]
  },
  {
   "cell_type": "markdown",
   "id": "489b96f3-4f76-42ae-912d-422bae3cb7cc",
   "metadata": {},
   "source": [
    "In this notebook we want to demonstrate how to use triple attributes to limit users to viewing certain triples. To read more generally about triple attributes and their uses, go [here](https://franz.com/agraph/support/documentation/7.0.0/triple-attributes.html), and to read more about triple attributes specifically used with python, click [here](https://franz.com/agraph/support/documentation/current/python/tutorial/example017.html)"
   ]
  },
  {
   "cell_type": "markdown",
   "id": "c0e65410-b0a3-4029-9a5c-4e5352cff71f",
   "metadata": {},
   "source": [
    "If you are connecting in a regular jupyter notebook and have activated our `ag-tutorial` environment then you do not need to run the following cell to install `agraph-python`. However if you are in a **Google Colab** please run the following cell"
   ]
  },
  {
   "cell_type": "code",
   "execution_count": null,
   "id": "75de7891-d331-4c85-a01f-6e2c61d87b87",
   "metadata": {},
   "outputs": [],
   "source": [
    "%pip install agraph-python pycurl"
   ]
  },
  {
   "cell_type": "markdown",
   "id": "16ef2bbe-296e-4ce0-816d-70049fa08e16",
   "metadata": {},
   "source": [
    "We will only set the environment variables for `AGRAPH_PASSWORD`, `AGRAPH_HOST` and `AGRAPH_PORT`. If connecting to a cloud server you will not need to change the port, but please copy the host from your server. We have left a (nonworking) example in place."
   ]
  },
  {
   "cell_type": "code",
   "execution_count": 1,
   "id": "974f3881-e13a-4448-b51b-f5dcdea7d5c2",
   "metadata": {},
   "outputs": [],
   "source": [
    "import os\n",
    "os.environ['AGRAPH_PASSWORD'] = 'GrMEKDvQFaN2bkrHJeiCbv'\n",
    "os.environ['AGRAPH_HOST'] = 'https://ag197y8xsj2epl2e.allegrograph.cloud'\n",
    "os.environ['AGRAPH_PORT'] = '443'"
   ]
  },
  {
   "cell_type": "markdown",
   "id": "7f864b10-e887-4a3d-b8c5-eefb6a3fe83a",
   "metadata": {},
   "source": [
    "And then we import the necessary packages"
   ]
  },
  {
   "cell_type": "code",
   "execution_count": 2,
   "id": "1f7cabb9-ad12-4942-83fa-89bc3ca02a7d",
   "metadata": {},
   "outputs": [],
   "source": [
    "from franz.openrdf.sail.allegrographserver import AllegroGraphServer as ag_server\n",
    "from franz.openrdf.connect import ag_connect\n",
    "from franz.openrdf.query.query import QueryLanguage\n",
    "from franz.openrdf.repository.attributes import AttributeDefinition, TripleAttribute, UserAttribute"
   ]
  },
  {
   "cell_type": "markdown",
   "id": "4fd58b49-a74c-41d6-9442-5ba3092fbc1a",
   "metadata": {},
   "source": [
    "First, we connect as the `admin` and create a new repository called *patient-data*. We also declare the local namespace that will be used in this notebook, as well as setting the namespace in the server so the namespace can be used as a prefix for SPARQL queries. Note that the user `admin` has **superuser** privileges."
   ]
  },
  {
   "cell_type": "code",
   "execution_count": 3,
   "id": "53cd7ffd-6a44-4589-81af-79e9d9081325",
   "metadata": {},
   "outputs": [],
   "source": [
    "conn = ag_connect('patient-data', clear=True, user='admin')\n",
    "\n",
    "f = conn.namespace('http://franz.com/')\n",
    "conn.setNamespace('f', 'http://franz.com/')"
   ]
  },
  {
   "cell_type": "markdown",
   "id": "602dc87f-c2d8-4c3d-8cf1-787a721eebca",
   "metadata": {},
   "source": [
    "We now also connect to the actual server, not just an individual repository, as the `admin`"
   ]
  },
  {
   "cell_type": "code",
   "execution_count": 4,
   "id": "c517c0d9-1b99-42fa-9d38-cfe41784ad95",
   "metadata": {},
   "outputs": [],
   "source": [
    "server = ag_server(user='admin')"
   ]
  },
  {
   "cell_type": "markdown",
   "id": "8b28899f-b9de-4ffe-a4d2-c3a5bc0dfd3e",
   "metadata": {},
   "source": [
    "We want to create a set of triples where a subset has a 'Low Security' attribute and the rest has a 'High Security' attribute. To do this we must first set the `AttributeDefinition`, and then apply it to the *patient-data* connection. Note that in our definition of the attribute we set `ordered` to `True`, meaning that 'Low Security' is less/lower than 'High Security'. We also set a `minimum_number` value of 1 and a `maximum_number` of 1, meaning that each triple needs one and only one security attribute."
   ]
  },
  {
   "cell_type": "code",
   "execution_count": 5,
   "id": "43419915-e5f7-42b9-b5db-99af861d262f",
   "metadata": {},
   "outputs": [],
   "source": [
    "security = AttributeDefinition(\n",
    "    name='security',\n",
    "    allowed_values=['Low Security', 'High Security'],\n",
    "    ordered=True,\n",
    "    minimum_number=1,\n",
    "    maximum_number=1)\n",
    "\n",
    "conn.setAttributeDefinition(security)"
   ]
  },
  {
   "cell_type": "markdown",
   "id": "b9982d9b-e1ee-4421-9728-3f22177c3d67",
   "metadata": {},
   "source": [
    "Now that the attribute has been defined and set on the repository, we must set the attribute filter. In the following code we want to declare the following: The attribute of the triple must be *less than or equal to* the attribute set to the user. The implication of this will become more clear after the following python chunks."
   ]
  },
  {
   "cell_type": "code",
   "execution_count": 6,
   "id": "514f7675-f4e2-4dc0-afbc-a5059faff730",
   "metadata": {},
   "outputs": [],
   "source": [
    "conn.setAttributeFilter(TripleAttribute.security <= UserAttribute.security)"
   ]
  },
  {
   "cell_type": "markdown",
   "id": "9d85846a-9647-4685-abaa-dd1f8792832c",
   "metadata": {},
   "source": [
    "Now we add a set of triples with 'High Security' attributes to *patient-data*"
   ]
  },
  {
   "cell_type": "code",
   "execution_count": 7,
   "id": "aa84d8b0-5375-4bc2-99de-aaa4353ae5e8",
   "metadata": {},
   "outputs": [],
   "source": [
    "triples = []\n",
    "triples.append((f.subject1, f.countryCode, f.CN, None, {'security':'High Security'}))\n",
    "triples.append((f.subject1, f.country, \"China\", None, {'security':'High Security'}))\n",
    "triples.append((f.subject1, f.name, \"Xin Liu\", None, {'security':'High Security'}))\n",
    "triples.append((f.subject1, f.streetAddress, \"87 Xinghua Road\", None, {'security':'High Security'}))\n",
    "triples.append((f.subject1, f.city, \"Beijing\", None, {'security':'High Security'}))\n",
    "triples.append((f.subject1, f.age, 42, None, {'security':'High Security'}))\n",
    "triples.append((f.subject1, f.postal, \"100007\", None, {'security':'High Security'}))\n",
    "conn.addTriples(triples)"
   ]
  },
  {
   "cell_type": "markdown",
   "id": "165c7220-9a42-499c-9843-1352add9d4d9",
   "metadata": {},
   "source": [
    "And now we add a set of triples with 'Low Security' attributes."
   ]
  },
  {
   "cell_type": "code",
   "execution_count": 8,
   "id": "07a14592-87ce-4f51-95e9-5a6d0902875c",
   "metadata": {},
   "outputs": [],
   "source": [
    "triples = []\n",
    "triples.append((f.subject2, f.countryCode, f.US, None, {'security':'Low Security'}))\n",
    "triples.append((f.subject2, f.country, \"United States of America\", None, {'security':'Low Security'}))\n",
    "triples.append((f.subject2, f.name, \"George Smith\", None, {'security':'Low Security'}))\n",
    "triples.append((f.subject2, f.streetAddress, \"32 Main Street\", None, {'security':'Low Security'}))\n",
    "triples.append((f.subject2, f.city, \"Lambertville\", None, {'security':'Low Security'}))\n",
    "triples.append((f.subject2, f.age, 42, None, {'security':'Low Security'}))\n",
    "triples.append((f.subject2, f.postal, \"08554\", None, {'security':'Low Security'}))\n",
    "conn.addTriples(triples)"
   ]
  },
  {
   "cell_type": "markdown",
   "id": "a357e92f-f3ce-4d2a-8d07-91b6ba0c3cb0",
   "metadata": {},
   "source": [
    "Now, we take a look at `user1` and examine their defined attributes rules for *patient-data*"
   ]
  },
  {
   "cell_type": "markdown",
   "id": "a726566b-12c1-4041-8d40-ddc4bdfd57fe",
   "metadata": {},
   "source": [
    "### Set *Attribute Rule* in Webview to `Low Security`\n",
    "\n",
    "Now in webview, as a `admin` you can create a new attribute rule in the *users* page for `user1`"
   ]
  },
  {
   "cell_type": "markdown",
   "id": "3e1b490a-38d0-4496-a873-d63a1c97d314",
   "metadata": {},
   "source": [
    "![user1-low-security](images/user1-low-security.png)"
   ]
  },
  {
   "cell_type": "markdown",
   "id": "e6a3bef7-ea99-4e1d-97ac-1742a2f55038",
   "metadata": {},
   "source": [
    "We see that `user1` has 'Low Security' so when we connect as `user1` to *patient-data*, so they should only be able to see triples with the 'Low Security' attribute"
   ]
  },
  {
   "cell_type": "code",
   "execution_count": 9,
   "id": "dba94503-267c-46ec-9c36-9b69ff739545",
   "metadata": {},
   "outputs": [
    {
     "data": {
      "text/html": [
       "<div>\n",
       "<style scoped>\n",
       "    .dataframe tbody tr th:only-of-type {\n",
       "        vertical-align: middle;\n",
       "    }\n",
       "\n",
       "    .dataframe tbody tr th {\n",
       "        vertical-align: top;\n",
       "    }\n",
       "\n",
       "    .dataframe thead th {\n",
       "        text-align: right;\n",
       "    }\n",
       "</style>\n",
       "<table border=\"1\" class=\"dataframe\">\n",
       "  <thead>\n",
       "    <tr style=\"text-align: right;\">\n",
       "      <th></th>\n",
       "      <th>s</th>\n",
       "      <th>p</th>\n",
       "      <th>o</th>\n",
       "    </tr>\n",
       "  </thead>\n",
       "  <tbody>\n",
       "    <tr>\n",
       "      <th>0</th>\n",
       "      <td>&lt;http://franz.com/subject2&gt;</td>\n",
       "      <td>&lt;http://franz.com/countryCode&gt;</td>\n",
       "      <td>&lt;http://franz.com/US&gt;</td>\n",
       "    </tr>\n",
       "    <tr>\n",
       "      <th>1</th>\n",
       "      <td>&lt;http://franz.com/subject2&gt;</td>\n",
       "      <td>&lt;http://franz.com/country&gt;</td>\n",
       "      <td>United States of America</td>\n",
       "    </tr>\n",
       "    <tr>\n",
       "      <th>2</th>\n",
       "      <td>&lt;http://franz.com/subject2&gt;</td>\n",
       "      <td>&lt;http://franz.com/name&gt;</td>\n",
       "      <td>George Smith</td>\n",
       "    </tr>\n",
       "    <tr>\n",
       "      <th>3</th>\n",
       "      <td>&lt;http://franz.com/subject2&gt;</td>\n",
       "      <td>&lt;http://franz.com/streetAddress&gt;</td>\n",
       "      <td>32 Main Street</td>\n",
       "    </tr>\n",
       "    <tr>\n",
       "      <th>4</th>\n",
       "      <td>&lt;http://franz.com/subject2&gt;</td>\n",
       "      <td>&lt;http://franz.com/city&gt;</td>\n",
       "      <td>Lambertville</td>\n",
       "    </tr>\n",
       "    <tr>\n",
       "      <th>5</th>\n",
       "      <td>&lt;http://franz.com/subject2&gt;</td>\n",
       "      <td>&lt;http://franz.com/age&gt;</td>\n",
       "      <td>42</td>\n",
       "    </tr>\n",
       "    <tr>\n",
       "      <th>6</th>\n",
       "      <td>&lt;http://franz.com/subject2&gt;</td>\n",
       "      <td>&lt;http://franz.com/postal&gt;</td>\n",
       "      <td>08554</td>\n",
       "    </tr>\n",
       "  </tbody>\n",
       "</table>\n",
       "</div>"
      ],
      "text/plain": [
       "                             s                                 p  \\\n",
       "0  <http://franz.com/subject2>    <http://franz.com/countryCode>   \n",
       "1  <http://franz.com/subject2>        <http://franz.com/country>   \n",
       "2  <http://franz.com/subject2>           <http://franz.com/name>   \n",
       "3  <http://franz.com/subject2>  <http://franz.com/streetAddress>   \n",
       "4  <http://franz.com/subject2>           <http://franz.com/city>   \n",
       "5  <http://franz.com/subject2>            <http://franz.com/age>   \n",
       "6  <http://franz.com/subject2>         <http://franz.com/postal>   \n",
       "\n",
       "                          o  \n",
       "0     <http://franz.com/US>  \n",
       "1  United States of America  \n",
       "2              George Smith  \n",
       "3            32 Main Street  \n",
       "4              Lambertville  \n",
       "5                        42  \n",
       "6                     08554  "
      ]
     },
     "execution_count": 9,
     "metadata": {},
     "output_type": "execute_result"
    }
   ],
   "source": [
    "conn = ag_connect('patient-data', user='user1', password='pw1')\n",
    "\n",
    "query_string =  \"select ?s ?p ?o where { ?s ?p ?o }\"\n",
    "with conn.executeTupleQuery(query_string) as result:\n",
    "        df = result.toPandas()\n",
    "df"
   ]
  },
  {
   "cell_type": "markdown",
   "id": "dc5a56f1-1ba7-4c69-ac1c-96567d1dc57c",
   "metadata": {},
   "source": [
    "Not only does this work with SPARQL queries, it functions similarly with any other method of querying the data. "
   ]
  },
  {
   "cell_type": "code",
   "execution_count": 14,
   "id": "506383f6-2539-43b7-91b8-3c8e29ce6f6e",
   "metadata": {},
   "outputs": [
    {
     "name": "stdout",
     "output_type": "stream",
     "text": [
      "0 <http://franz.com/subject2> <http://franz.com/countryCode> <http://franz.com/US>\n",
      "1 <http://franz.com/subject2> <http://franz.com/country> \"United States of America\"\n",
      "2 <http://franz.com/subject2> <http://franz.com/name> \"George Smith\"\n",
      "3 <http://franz.com/subject2> <http://franz.com/streetAddress> \"32 Main Street\"\n",
      "4 <http://franz.com/subject2> <http://franz.com/city> \"Lambertville\"\n",
      "5 <http://franz.com/subject2> <http://franz.com/age> \"42\"^^<http://www.w3.org/2001/XMLSchema#integer>\n",
      "6 <http://franz.com/subject2> <http://franz.com/postal> \"08554\"\n"
     ]
    }
   ],
   "source": [
    "statements = conn.getStatements(None, None, None)\n",
    "with statements:\n",
    "    for i, statement in enumerate(statements):\n",
    "        print(i, statement.getSubject(), statement.getPredicate(), statement.getObject())"
   ]
  },
  {
   "cell_type": "markdown",
   "id": "7957b599-9bc3-4670-9e72-630bc566fe6f",
   "metadata": {},
   "source": [
    "### `High Security` *Attribute Rule* in Webview\n",
    "\n",
    "Now we examine `user2` with a 'High Security' attribute rule defined."
   ]
  },
  {
   "cell_type": "markdown",
   "id": "e65fb0ae-a603-492b-b8a1-21d21a79a473",
   "metadata": {},
   "source": [
    "![user2-high-security](images/user2-high-security.png)"
   ]
  },
  {
   "cell_type": "markdown",
   "id": "d16ae6b5-01cc-4339-aea1-fa0cfc1b3294",
   "metadata": {},
   "source": [
    "Now we will see that since `user2` has the 'High Security' attribute, they will be able to see all triples."
   ]
  },
  {
   "cell_type": "code",
   "execution_count": 15,
   "id": "1c44effe-2a20-4e6d-bac6-a5bca4af9dba",
   "metadata": {},
   "outputs": [
    {
     "data": {
      "text/html": [
       "<div>\n",
       "<style scoped>\n",
       "    .dataframe tbody tr th:only-of-type {\n",
       "        vertical-align: middle;\n",
       "    }\n",
       "\n",
       "    .dataframe tbody tr th {\n",
       "        vertical-align: top;\n",
       "    }\n",
       "\n",
       "    .dataframe thead th {\n",
       "        text-align: right;\n",
       "    }\n",
       "</style>\n",
       "<table border=\"1\" class=\"dataframe\">\n",
       "  <thead>\n",
       "    <tr style=\"text-align: right;\">\n",
       "      <th></th>\n",
       "      <th>s</th>\n",
       "      <th>p</th>\n",
       "      <th>o</th>\n",
       "    </tr>\n",
       "  </thead>\n",
       "  <tbody>\n",
       "    <tr>\n",
       "      <th>0</th>\n",
       "      <td>&lt;http://franz.com/subject1&gt;</td>\n",
       "      <td>&lt;http://franz.com/countryCode&gt;</td>\n",
       "      <td>&lt;http://franz.com/CN&gt;</td>\n",
       "    </tr>\n",
       "    <tr>\n",
       "      <th>1</th>\n",
       "      <td>&lt;http://franz.com/subject1&gt;</td>\n",
       "      <td>&lt;http://franz.com/country&gt;</td>\n",
       "      <td>China</td>\n",
       "    </tr>\n",
       "    <tr>\n",
       "      <th>2</th>\n",
       "      <td>&lt;http://franz.com/subject1&gt;</td>\n",
       "      <td>&lt;http://franz.com/name&gt;</td>\n",
       "      <td>Xin Liu</td>\n",
       "    </tr>\n",
       "    <tr>\n",
       "      <th>3</th>\n",
       "      <td>&lt;http://franz.com/subject1&gt;</td>\n",
       "      <td>&lt;http://franz.com/streetAddress&gt;</td>\n",
       "      <td>87 Xinghua Road</td>\n",
       "    </tr>\n",
       "    <tr>\n",
       "      <th>4</th>\n",
       "      <td>&lt;http://franz.com/subject1&gt;</td>\n",
       "      <td>&lt;http://franz.com/city&gt;</td>\n",
       "      <td>Beijing</td>\n",
       "    </tr>\n",
       "    <tr>\n",
       "      <th>5</th>\n",
       "      <td>&lt;http://franz.com/subject1&gt;</td>\n",
       "      <td>&lt;http://franz.com/age&gt;</td>\n",
       "      <td>42</td>\n",
       "    </tr>\n",
       "    <tr>\n",
       "      <th>6</th>\n",
       "      <td>&lt;http://franz.com/subject1&gt;</td>\n",
       "      <td>&lt;http://franz.com/postal&gt;</td>\n",
       "      <td>100007</td>\n",
       "    </tr>\n",
       "    <tr>\n",
       "      <th>7</th>\n",
       "      <td>&lt;http://franz.com/subject2&gt;</td>\n",
       "      <td>&lt;http://franz.com/countryCode&gt;</td>\n",
       "      <td>&lt;http://franz.com/US&gt;</td>\n",
       "    </tr>\n",
       "    <tr>\n",
       "      <th>8</th>\n",
       "      <td>&lt;http://franz.com/subject2&gt;</td>\n",
       "      <td>&lt;http://franz.com/country&gt;</td>\n",
       "      <td>United States of America</td>\n",
       "    </tr>\n",
       "    <tr>\n",
       "      <th>9</th>\n",
       "      <td>&lt;http://franz.com/subject2&gt;</td>\n",
       "      <td>&lt;http://franz.com/name&gt;</td>\n",
       "      <td>George Smith</td>\n",
       "    </tr>\n",
       "    <tr>\n",
       "      <th>10</th>\n",
       "      <td>&lt;http://franz.com/subject2&gt;</td>\n",
       "      <td>&lt;http://franz.com/streetAddress&gt;</td>\n",
       "      <td>32 Main Street</td>\n",
       "    </tr>\n",
       "    <tr>\n",
       "      <th>11</th>\n",
       "      <td>&lt;http://franz.com/subject2&gt;</td>\n",
       "      <td>&lt;http://franz.com/city&gt;</td>\n",
       "      <td>Lambertville</td>\n",
       "    </tr>\n",
       "    <tr>\n",
       "      <th>12</th>\n",
       "      <td>&lt;http://franz.com/subject2&gt;</td>\n",
       "      <td>&lt;http://franz.com/age&gt;</td>\n",
       "      <td>42</td>\n",
       "    </tr>\n",
       "    <tr>\n",
       "      <th>13</th>\n",
       "      <td>&lt;http://franz.com/subject2&gt;</td>\n",
       "      <td>&lt;http://franz.com/postal&gt;</td>\n",
       "      <td>08554</td>\n",
       "    </tr>\n",
       "  </tbody>\n",
       "</table>\n",
       "</div>"
      ],
      "text/plain": [
       "                              s                                 p  \\\n",
       "0   <http://franz.com/subject1>    <http://franz.com/countryCode>   \n",
       "1   <http://franz.com/subject1>        <http://franz.com/country>   \n",
       "2   <http://franz.com/subject1>           <http://franz.com/name>   \n",
       "3   <http://franz.com/subject1>  <http://franz.com/streetAddress>   \n",
       "4   <http://franz.com/subject1>           <http://franz.com/city>   \n",
       "5   <http://franz.com/subject1>            <http://franz.com/age>   \n",
       "6   <http://franz.com/subject1>         <http://franz.com/postal>   \n",
       "7   <http://franz.com/subject2>    <http://franz.com/countryCode>   \n",
       "8   <http://franz.com/subject2>        <http://franz.com/country>   \n",
       "9   <http://franz.com/subject2>           <http://franz.com/name>   \n",
       "10  <http://franz.com/subject2>  <http://franz.com/streetAddress>   \n",
       "11  <http://franz.com/subject2>           <http://franz.com/city>   \n",
       "12  <http://franz.com/subject2>            <http://franz.com/age>   \n",
       "13  <http://franz.com/subject2>         <http://franz.com/postal>   \n",
       "\n",
       "                           o  \n",
       "0      <http://franz.com/CN>  \n",
       "1                      China  \n",
       "2                    Xin Liu  \n",
       "3            87 Xinghua Road  \n",
       "4                    Beijing  \n",
       "5                         42  \n",
       "6                     100007  \n",
       "7      <http://franz.com/US>  \n",
       "8   United States of America  \n",
       "9               George Smith  \n",
       "10            32 Main Street  \n",
       "11              Lambertville  \n",
       "12                        42  \n",
       "13                     08554  "
      ]
     },
     "execution_count": 15,
     "metadata": {},
     "output_type": "execute_result"
    }
   ],
   "source": [
    "conn = ag_connect('patient-data', user='user2', password='pw2')\n",
    "\n",
    "query_string =  \"select ?s ?p ?o where { ?s ?p ?o }\"\n",
    "with conn.executeTupleQuery(query_string) as result:\n",
    "        df = result.toPandas()\n",
    "df"
   ]
  },
  {
   "cell_type": "code",
   "execution_count": 16,
   "id": "ad0f7efc-8a4b-44a9-b436-9c63f5f7fc8f",
   "metadata": {},
   "outputs": [
    {
     "name": "stdout",
     "output_type": "stream",
     "text": [
      "0 <http://franz.com/subject1> <http://franz.com/countryCode> <http://franz.com/CN>\n",
      "1 <http://franz.com/subject1> <http://franz.com/country> \"China\"\n",
      "2 <http://franz.com/subject1> <http://franz.com/name> \"Xin Liu\"\n",
      "3 <http://franz.com/subject1> <http://franz.com/streetAddress> \"87 Xinghua Road\"\n",
      "4 <http://franz.com/subject1> <http://franz.com/city> \"Beijing\"\n",
      "5 <http://franz.com/subject1> <http://franz.com/age> \"42\"^^<http://www.w3.org/2001/XMLSchema#integer>\n",
      "6 <http://franz.com/subject1> <http://franz.com/postal> \"100007\"\n",
      "7 <http://franz.com/subject2> <http://franz.com/countryCode> <http://franz.com/US>\n",
      "8 <http://franz.com/subject2> <http://franz.com/country> \"United States of America\"\n",
      "9 <http://franz.com/subject2> <http://franz.com/name> \"George Smith\"\n",
      "10 <http://franz.com/subject2> <http://franz.com/streetAddress> \"32 Main Street\"\n",
      "11 <http://franz.com/subject2> <http://franz.com/city> \"Lambertville\"\n",
      "12 <http://franz.com/subject2> <http://franz.com/age> \"42\"^^<http://www.w3.org/2001/XMLSchema#integer>\n",
      "13 <http://franz.com/subject2> <http://franz.com/postal> \"08554\"\n"
     ]
    }
   ],
   "source": [
    "statements = conn.getStatements(None, None, None)\n",
    "with statements:\n",
    "    for i, statement in enumerate(statements):\n",
    "        print(i, statement.getSubject(), statement.getPredicate(), statement.getObject())"
   ]
  }
 ],
 "metadata": {
  "kernelspec": {
   "display_name": "Python [conda env:synthea]",
   "language": "python",
   "name": "conda-env-synthea-py"
  },
  "language_info": {
   "codemirror_mode": {
    "name": "ipython",
    "version": 3
   },
   "file_extension": ".py",
   "mimetype": "text/x-python",
   "name": "python",
   "nbconvert_exporter": "python",
   "pygments_lexer": "ipython3",
   "version": "3.10.6"
  }
 },
 "nbformat": 4,
 "nbformat_minor": 5
}
